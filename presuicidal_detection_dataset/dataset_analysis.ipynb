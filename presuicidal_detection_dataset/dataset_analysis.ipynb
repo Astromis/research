{
 "cells": [
  {
   "cell_type": "code",
   "execution_count": 1,
   "id": "1c557a58",
   "metadata": {},
   "outputs": [],
   "source": [
    "import pandas as pd\n",
    "import re\n",
    "import numpy as np\n",
    "import seaborn as sns\n",
    "from matplotlib import pyplot as plt\n",
    "\n",
    "from dostoevsky.tokenization import RegexTokenizer\n",
    "from dostoevsky.models import FastTextSocialNetworkModel\n",
    "from scipy.stats import chi2_contingency\n",
    "from scipy.stats import chisquare\n",
    "\n",
    "from textfab import Conveyer"
   ]
  },
  {
   "cell_type": "code",
   "execution_count": 2,
   "id": "8cdba68d",
   "metadata": {},
   "outputs": [],
   "source": [
    "from wordcloud import WordCloud\n",
    "import matplotlib.pyplot as plt\n",
    "from collections import Counter\n",
    "from nltk import word_tokenize\n",
    "\n",
    "%matplotlib inline"
   ]
  },
  {
   "cell_type": "code",
   "execution_count": 3,
   "id": "a1c6e1ea",
   "metadata": {},
   "outputs": [],
   "source": [
    "df = pd.read_csv(\"data/twitter_dataset.csv\", sep=\"|\")\n",
    "df = df[df.label != -1]\n",
    "df.text = df.text.astype(str)\n"
   ]
  },
  {
   "cell_type": "code",
   "execution_count": 4,
   "id": "36309880",
   "metadata": {},
   "outputs": [],
   "source": [
    "def preprocess(corp):\n",
    "    con = Conveyer(['remove_non_cyrillic','remove_punct', \"lower_string\", \"swap_enter_to_space\", \"collapse_spaces\"])\n",
    "    corp = list(map(lambda x:re.sub(\"[A-Za-z]+\", '', x), corp))\n",
    "    corp = con.start(corp)\n",
    "    return corp"
   ]
  },
  {
   "cell_type": "code",
   "execution_count": 5,
   "id": "26ca9d9e",
   "metadata": {},
   "outputs": [],
   "source": [
    "df = df[df.text != \"<no text>\"]\n",
    "#df.text = preprocess(df.text.to_list())\n",
    "\n",
    "df = df[df.text != \"\"]"
   ]
  },
  {
   "cell_type": "code",
   "execution_count": 6,
   "id": "5bc518eb",
   "metadata": {},
   "outputs": [],
   "source": [
    "corp = df.text.to_list()"
   ]
  },
  {
   "cell_type": "code",
   "execution_count": 7,
   "id": "b93ab5b3",
   "metadata": {},
   "outputs": [
    {
     "data": {
      "text/plain": [
       "5    27619\n",
       "2     2809\n",
       "1     2131\n",
       "4      205\n",
       "3       21\n",
       "Name: label, dtype: int64"
      ]
     },
     "execution_count": 7,
     "metadata": {},
     "output_type": "execute_result"
    }
   ],
   "source": [
    "df.label.value_counts()\n"
   ]
  },
  {
   "cell_type": "code",
   "execution_count": 8,
   "id": "779e1bc3",
   "metadata": {},
   "outputs": [
    {
     "data": {
      "text/plain": [
       "32785"
      ]
     },
     "execution_count": 8,
     "metadata": {},
     "output_type": "execute_result"
    }
   ],
   "source": [
    "len(corp)"
   ]
  },
  {
   "cell_type": "markdown",
   "id": "654f19b8",
   "metadata": {},
   "source": [
    "# Emoji distribution"
   ]
  },
  {
   "cell_type": "code",
   "execution_count": 9,
   "id": "d84edb8f",
   "metadata": {},
   "outputs": [],
   "source": [
    "emojis = re.findall(\"<emoji>[A-Za-z -]+</emoji>\", ' '.join(corp))\n",
    "emojis = list(map(lambda x:re.sub(\"<emoji>([A-Za-z -]+)</emoji>\", \"\\g<1>\", x), emojis))"
   ]
  },
  {
   "cell_type": "code",
   "execution_count": 10,
   "id": "a51fa570",
   "metadata": {},
   "outputs": [],
   "source": [
    "#hash_tags = re.findall(\"#[A-Za-zА-Яа-я]+\", ' '.join(corp))\n",
    "#len(set(hash_tags))"
   ]
  },
  {
   "cell_type": "code",
   "execution_count": 10,
   "id": "158ecaba",
   "metadata": {},
   "outputs": [
    {
     "data": {
      "text/plain": [
       "12551"
      ]
     },
     "execution_count": 10,
     "metadata": {},
     "output_type": "execute_result"
    }
   ],
   "source": [
    "len(emojis)"
   ]
  },
  {
   "cell_type": "code",
   "execution_count": 11,
   "id": "8371fa3a",
   "metadata": {},
   "outputs": [
    {
     "data": {
      "text/plain": [
       "483"
      ]
     },
     "execution_count": 11,
     "metadata": {},
     "output_type": "execute_result"
    }
   ],
   "source": [
    "len(set(emojis))"
   ]
  },
  {
   "cell_type": "code",
   "execution_count": 12,
   "id": "6ac7a36f",
   "metadata": {},
   "outputs": [],
   "source": [
    "from collections import Counter\n",
    "\n",
    "df_emo = pd.DataFrame()\n",
    "for emo, num in Counter(emojis).most_common(10): \n",
    "    df_emo[emo] = df.text.apply(lambda x: x.count(f\"<emoji>{emo}</emoji>\") )\n",
    "df_emo[\"label\"] = df.label"
   ]
  },
  {
   "cell_type": "code",
   "execution_count": 13,
   "id": "9366df24",
   "metadata": {},
   "outputs": [
    {
     "data": {
      "text/html": [
       "<div>\n",
       "<style scoped>\n",
       "    .dataframe tbody tr th:only-of-type {\n",
       "        vertical-align: middle;\n",
       "    }\n",
       "\n",
       "    .dataframe tbody tr th {\n",
       "        vertical-align: top;\n",
       "    }\n",
       "\n",
       "    .dataframe thead th {\n",
       "        text-align: right;\n",
       "    }\n",
       "</style>\n",
       "<table border=\"1\" class=\"dataframe\">\n",
       "  <thead>\n",
       "    <tr style=\"text-align: right;\">\n",
       "      <th></th>\n",
       "      <th>Triangular flag on post</th>\n",
       "      <th>Loudly crying face</th>\n",
       "      <th>Pleading face</th>\n",
       "      <th>Red heart</th>\n",
       "      <th>Sparkles</th>\n",
       "      <th>Place of worship</th>\n",
       "      <th>Beating heart</th>\n",
       "      <th>Clown face</th>\n",
       "      <th>Sparkling heart</th>\n",
       "      <th>Two hearts</th>\n",
       "      <th>label</th>\n",
       "    </tr>\n",
       "  </thead>\n",
       "  <tbody>\n",
       "    <tr>\n",
       "      <th>0</th>\n",
       "      <td>0</td>\n",
       "      <td>0</td>\n",
       "      <td>0</td>\n",
       "      <td>0</td>\n",
       "      <td>0</td>\n",
       "      <td>0</td>\n",
       "      <td>0</td>\n",
       "      <td>0</td>\n",
       "      <td>0</td>\n",
       "      <td>0</td>\n",
       "      <td>5</td>\n",
       "    </tr>\n",
       "    <tr>\n",
       "      <th>1</th>\n",
       "      <td>0</td>\n",
       "      <td>0</td>\n",
       "      <td>0</td>\n",
       "      <td>0</td>\n",
       "      <td>0</td>\n",
       "      <td>0</td>\n",
       "      <td>0</td>\n",
       "      <td>0</td>\n",
       "      <td>0</td>\n",
       "      <td>0</td>\n",
       "      <td>5</td>\n",
       "    </tr>\n",
       "    <tr>\n",
       "      <th>2</th>\n",
       "      <td>0</td>\n",
       "      <td>0</td>\n",
       "      <td>0</td>\n",
       "      <td>0</td>\n",
       "      <td>0</td>\n",
       "      <td>0</td>\n",
       "      <td>0</td>\n",
       "      <td>0</td>\n",
       "      <td>0</td>\n",
       "      <td>0</td>\n",
       "      <td>5</td>\n",
       "    </tr>\n",
       "    <tr>\n",
       "      <th>3</th>\n",
       "      <td>0</td>\n",
       "      <td>0</td>\n",
       "      <td>0</td>\n",
       "      <td>0</td>\n",
       "      <td>0</td>\n",
       "      <td>0</td>\n",
       "      <td>0</td>\n",
       "      <td>0</td>\n",
       "      <td>0</td>\n",
       "      <td>0</td>\n",
       "      <td>5</td>\n",
       "    </tr>\n",
       "    <tr>\n",
       "      <th>4</th>\n",
       "      <td>0</td>\n",
       "      <td>0</td>\n",
       "      <td>0</td>\n",
       "      <td>0</td>\n",
       "      <td>0</td>\n",
       "      <td>0</td>\n",
       "      <td>0</td>\n",
       "      <td>0</td>\n",
       "      <td>0</td>\n",
       "      <td>0</td>\n",
       "      <td>5</td>\n",
       "    </tr>\n",
       "  </tbody>\n",
       "</table>\n",
       "</div>"
      ],
      "text/plain": [
       "   Triangular flag on post  Loudly crying face  Pleading face  Red heart  \\\n",
       "0                        0                   0              0          0   \n",
       "1                        0                   0              0          0   \n",
       "2                        0                   0              0          0   \n",
       "3                        0                   0              0          0   \n",
       "4                        0                   0              0          0   \n",
       "\n",
       "   Sparkles  Place of worship  Beating heart  Clown face  Sparkling heart  \\\n",
       "0         0                 0              0           0                0   \n",
       "1         0                 0              0           0                0   \n",
       "2         0                 0              0           0                0   \n",
       "3         0                 0              0           0                0   \n",
       "4         0                 0              0           0                0   \n",
       "\n",
       "   Two hearts  label  \n",
       "0           0      5  \n",
       "1           0      5  \n",
       "2           0      5  \n",
       "3           0      5  \n",
       "4           0      5  "
      ]
     },
     "execution_count": 13,
     "metadata": {},
     "output_type": "execute_result"
    }
   ],
   "source": [
    "df_emo.head()"
   ]
  },
  {
   "cell_type": "code",
   "execution_count": 14,
   "id": "42daeb14",
   "metadata": {},
   "outputs": [
    {
     "data": {
      "image/png": "[encoded data removed]",
      "text/plain": [
       "<Figure size 792x288 with 1 Axes>"
      ]
     },
     "metadata": {
      "needs_background": "light"
     },
     "output_type": "display_data"
    }
   ],
   "source": [
    "df_emo[df_emo.label.isin([1,2,5])].groupby(\"label\").agg(lambda x: sum(x/len(x))).iloc[:,1:].plot.bar(figsize=((11,4)), )\n",
    "plt.grid(axis='y')\n",
    "plt.legend(loc=\"upper right\")\n",
    "plt.xlabel(\"Class label\")\n",
    "plt.ylabel(\"Emoji to text count ratio\")\n",
    "plt.title(\"Top10 emoji histogram per class\")\n",
    "plt.savefig(\"emoji\", format=\"png\", dpi=600)\n",
    "#df_emo.groupby(\"label\").agg(\"sum\").iloc[:2,1:].plot.bar(figsize=((7,4)))\n",
    "#plt.grid(axis='y')\n"
   ]
  },
  {
   "cell_type": "code",
   "execution_count": 15,
   "id": "dcf58433",
   "metadata": {},
   "outputs": [
    {
     "data": {
      "text/plain": [
       "26"
      ]
     },
     "execution_count": 15,
     "metadata": {},
     "output_type": "execute_result"
    }
   ],
   "source": [
    "df_emo[\"Triangular flag on post\"].value_counts()[1:].sum()"
   ]
  },
  {
   "cell_type": "markdown",
   "id": "66118037",
   "metadata": {},
   "source": [
    "# Message length distr"
   ]
  },
  {
   "cell_type": "code",
   "execution_count": 16,
   "id": "a0742ecd",
   "metadata": {},
   "outputs": [],
   "source": [
    "df[\"message_length\"] = df.text.apply(lambda x: len(x.split()))"
   ]
  },
  {
   "cell_type": "code",
   "execution_count": 17,
   "id": "82953c3a",
   "metadata": {},
   "outputs": [
    {
     "data": {
      "image/png": "[encoded data removed]",
      "text/plain": [
       "<Figure size 432x288 with 1 Axes>"
      ]
     },
     "metadata": {
      "needs_background": "light"
     },
     "output_type": "display_data"
    }
   ],
   "source": [
    "sns.histplot(data=df[df.label.isin([1,2,5])], x=\"message_length\",binwidth = 10, hue=\"label\", stat=\"count\",)\n",
    "\n",
    "plt.xlim(0,100)\n",
    "plt.xlabel(\"token count\")\n",
    "plt.ylabel(\"number of texts\")\n",
    "plt.title(\"Message length histogramm\")\n",
    "plt.grid(True, axis=\"y\")\n",
    "plt.savefig(\"message_length.pmg\", format=\"png\", dpi=600)\n"
   ]
  },
  {
   "cell_type": "code",
   "execution_count": 18,
   "id": "ae0fcf52",
   "metadata": {},
   "outputs": [
    {
     "data": {
      "text/plain": [
       "(0, 100)"
      ]
     },
     "execution_count": 18,
     "metadata": {},
     "output_type": "execute_result"
    },
    {
     "data": {
      "image/png": "[encoded data removed]",
      "text/plain": [
       "<Figure size 432x288 with 1 Axes>"
      ]
     },
     "metadata": {
      "needs_background": "light"
     },
     "output_type": "display_data"
    }
   ],
   "source": [
    "sns.histplot(data=df[df.label != 5], x=\"message_length\",binwidth = 10, hue=\"label\", stat=\"count\",)\n",
    "plt.xlim(0,100)"
   ]
  },
  {
   "cell_type": "markdown",
   "id": "509fe46c",
   "metadata": {},
   "source": [
    "# pos-tag patterns"
   ]
  },
  {
   "cell_type": "code",
   "execution_count": 34,
   "id": "1d819dc7",
   "metadata": {},
   "outputs": [],
   "source": [
    "from nltk import word_tokenize\n",
    "from nltk.corpus import stopwords\n",
    "from nltk import pos_tag, word_tokenize\n",
    "from tqdm.auto import tqdm\n",
    "from collections import Counter\n",
    "from math import log\n",
    "from nltk import ngrams\n",
    "from scipy.stats import mannwhitneyu"
   ]
  },
  {
   "cell_type": "code",
   "execution_count": 35,
   "id": "d6bb855b",
   "metadata": {},
   "outputs": [],
   "source": [
    "russian_stopwords = stopwords.words(\"russian\")\n",
    "\n",
    "\n",
    "def filter_token_list(token_list, stop_words=None, ngram=1):\n",
    "    tokens = list(filter(lambda x: x not in punctuation, token_list))\n",
    "    tokens = list(filter(lambda x: x.isalpha(), tokens))\n",
    "    if stop_words:\n",
    "        tokens = list(filter(lambda x: x not in russian_stopwords, tokens))\n",
    "    #tokens = ['_'.join(x) for x in ngrams(tokens, ngram)]\n",
    "    return tokens"
   ]
  },
  {
   "cell_type": "code",
   "execution_count": 24,
   "id": "8881acc0",
   "metadata": {},
   "outputs": [
    {
     "data": {
      "application/vnd.jupyter.widget-view+json": {
       "model_id": "4be81f534d3f47a893adc8c48c81d9c5",
       "version_major": 2,
       "version_minor": 0
      },
      "text/plain": [
       "  0%|          | 0/32785 [00:00<?, ?it/s]"
      ]
     },
     "metadata": {},
     "output_type": "display_data"
    }
   ],
   "source": [
    "texts= [pos_tag(filter_token_list(word_tokenize(y)), lang=\"rus\") for y in tqdm(df.text.to_list())]"
   ]
  },
  {
   "cell_type": "code",
   "execution_count": 25,
   "id": "38499e9b",
   "metadata": {},
   "outputs": [],
   "source": [
    "postags = [[y[1] for y in x] for x in texts]"
   ]
  },
  {
   "cell_type": "code",
   "execution_count": 26,
   "id": "d2ca4a69",
   "metadata": {},
   "outputs": [],
   "source": [
    "df[\"pos\"] = [\"|\".join(x) for x in postags]"
   ]
  },
  {
   "cell_type": "code",
   "execution_count": 27,
   "id": "d3999390",
   "metadata": {},
   "outputs": [],
   "source": [
    "postags_trigrams = [list(ngrams(x, 3, pad_right=True, right_pad_symbol=\"<none>\")) for x in postags]\n",
    "\n",
    "postags_trigrams = [list(map(lambda y: \"|\".join(y), x)) for x in postags_trigrams]"
   ]
  },
  {
   "cell_type": "code",
   "execution_count": 28,
   "id": "1c1cbc71",
   "metadata": {},
   "outputs": [
    {
     "name": "stdout",
     "output_type": "stream",
     "text": [
      "5\n",
      "2\n",
      "1\n",
      "4\n",
      "3\n"
     ]
    }
   ],
   "source": [
    "conditional = [Counter() for i in range(len(df.label.unique()))]\n",
    "for trigram, label in zip(postags_trigrams, df.label.to_list()):\n",
    "    for t in trigram:\n",
    "        conditional[label-1][t] += 1\n",
    "\n",
    "pmi = [Counter() for i in range(len(df.label.unique()))]\n",
    "for label, label_freq in df.label.value_counts().items():\n",
    "    label_freq = 1/ label_freq\n",
    "    print(label)\n",
    "    for tag in conditional[label-1].keys():\n",
    "        if conditional[label-1][tag] < 100:\n",
    "            continue\n",
    "        else:\n",
    "            pmi[label-1][tag] = log(1/(conditional[label-1][tag]) / label_freq)"
   ]
  },
  {
   "cell_type": "code",
   "execution_count": 50,
   "id": "417b6851",
   "metadata": {},
   "outputs": [
    {
     "data": {
      "text/plain": [
       "['V|S-PRO|ADV',\n",
       " 'CONJ|V|S-PRO',\n",
       " 'PR|A-PRO=m|S',\n",
       " 'ADV|V|S',\n",
       " 'S|NONLEX|NONLEX',\n",
       " 'ADV|V|PR',\n",
       " 'V|CONJ|S',\n",
       " 'PRAEDIC|<none>|<none>',\n",
       " 'ADV|V|V',\n",
       " 'ADV|V|CONJ']"
      ]
     },
     "execution_count": 50,
     "metadata": {},
     "output_type": "execute_result"
    }
   ],
   "source": [
    "[x[0] for x in pmi[1].most_common(10)]"
   ]
  },
  {
   "cell_type": "code",
   "execution_count": 72,
   "id": "52bfed84",
   "metadata": {},
   "outputs": [
    {
     "data": {
      "text/plain": [
       "['V|S-PRO|S',\n",
       " 'CONJ|S-PRO|S-PRO',\n",
       " 'CONJ|V|S-PRO',\n",
       " 'S-PRO|ADV-PRO|V',\n",
       " 'S|CONJ|PART',\n",
       " 'V|V|S-PRO',\n",
       " 'ADV-PRO|S-PRO|V',\n",
       " 'PART|PART|V',\n",
       " 'V|CONJ|PR',\n",
       " 'S|CONJ|PR']"
      ]
     },
     "execution_count": 72,
     "metadata": {},
     "output_type": "execute_result"
    }
   ],
   "source": [
    "[x[0] for x in pmi[0].most_common(10)]"
   ]
  },
  {
   "cell_type": "code",
   "execution_count": 73,
   "id": "fe8777dd",
   "metadata": {},
   "outputs": [
    {
     "data": {
      "text/plain": [
       "['PR|V|S',\n",
       " 'CONJ|ADV|PR',\n",
       " 'A=pl|S|NONLEX',\n",
       " 'S-PRO|PR|A-PRO=pl',\n",
       " 'PRAEDIC|V|<none>',\n",
       " 'CONJ|S-PRO|A=n',\n",
       " 'A=n|CONJ|S-PRO',\n",
       " 'CONJ|CONJ|S',\n",
       " 'S|S-PRO|A=m',\n",
       " 'S-PRO|S-PRO|CONJ']"
      ]
     },
     "execution_count": 73,
     "metadata": {},
     "output_type": "execute_result"
    }
   ],
   "source": [
    "[x[0] for x in pmi[4].most_common(10)]"
   ]
  },
  {
   "cell_type": "code",
   "execution_count": 47,
   "id": "68656f9f",
   "metadata": {},
   "outputs": [],
   "source": [
    "d = pd.DataFrame()\n",
    "d[\"label\"] = df.label\n",
    "d = d[~d.label.isin([3,4])]\n",
    "for i in [x[0] for x in pmi[4].most_common(10)]:\n",
    "    d[i] = df.pos.apply(lambda x: x.count(i))"
   ]
  },
  {
   "cell_type": "code",
   "execution_count": 48,
   "id": "be0fc1df",
   "metadata": {},
   "outputs": [],
   "source": [
    "class0 = d.groupby(\"label\").agg(\"sum\").transpose()"
   ]
  },
  {
   "cell_type": "code",
   "execution_count": 49,
   "id": "f47cdf26",
   "metadata": {},
   "outputs": [
    {
     "data": {
      "text/html": [
       "<div>\n",
       "<style scoped>\n",
       "    .dataframe tbody tr th:only-of-type {\n",
       "        vertical-align: middle;\n",
       "    }\n",
       "\n",
       "    .dataframe tbody tr th {\n",
       "        vertical-align: top;\n",
       "    }\n",
       "\n",
       "    .dataframe thead th {\n",
       "        text-align: right;\n",
       "    }\n",
       "</style>\n",
       "<table border=\"1\" class=\"dataframe\">\n",
       "  <thead>\n",
       "    <tr style=\"text-align: right;\">\n",
       "      <th>label</th>\n",
       "      <th>1</th>\n",
       "      <th>2</th>\n",
       "      <th>5</th>\n",
       "    </tr>\n",
       "  </thead>\n",
       "  <tbody>\n",
       "    <tr>\n",
       "      <th>PR|V|S</th>\n",
       "      <td>17</td>\n",
       "      <td>7</td>\n",
       "      <td>141</td>\n",
       "    </tr>\n",
       "    <tr>\n",
       "      <th>CONJ|ADV|PR</th>\n",
       "      <td>24</td>\n",
       "      <td>18</td>\n",
       "      <td>135</td>\n",
       "    </tr>\n",
       "    <tr>\n",
       "      <th>A=pl|S|NONLEX</th>\n",
       "      <td>5</td>\n",
       "      <td>5</td>\n",
       "      <td>100</td>\n",
       "    </tr>\n",
       "    <tr>\n",
       "      <th>S-PRO|PR|A-PRO=pl</th>\n",
       "      <td>6</td>\n",
       "      <td>10</td>\n",
       "      <td>101</td>\n",
       "    </tr>\n",
       "    <tr>\n",
       "      <th>PRAEDIC|V|&lt;none&gt;</th>\n",
       "      <td>0</td>\n",
       "      <td>0</td>\n",
       "      <td>0</td>\n",
       "    </tr>\n",
       "    <tr>\n",
       "      <th>CONJ|S-PRO|A=n</th>\n",
       "      <td>14</td>\n",
       "      <td>26</td>\n",
       "      <td>101</td>\n",
       "    </tr>\n",
       "    <tr>\n",
       "      <th>A=n|CONJ|S-PRO</th>\n",
       "      <td>13</td>\n",
       "      <td>20</td>\n",
       "      <td>102</td>\n",
       "    </tr>\n",
       "    <tr>\n",
       "      <th>CONJ|CONJ|S</th>\n",
       "      <td>59</td>\n",
       "      <td>61</td>\n",
       "      <td>367</td>\n",
       "    </tr>\n",
       "    <tr>\n",
       "      <th>S|S-PRO|A=m</th>\n",
       "      <td>5</td>\n",
       "      <td>10</td>\n",
       "      <td>102</td>\n",
       "    </tr>\n",
       "    <tr>\n",
       "      <th>S-PRO|S-PRO|CONJ</th>\n",
       "      <td>16</td>\n",
       "      <td>18</td>\n",
       "      <td>102</td>\n",
       "    </tr>\n",
       "  </tbody>\n",
       "</table>\n",
       "</div>"
      ],
      "text/plain": [
       "label               1   2    5\n",
       "PR|V|S             17   7  141\n",
       "CONJ|ADV|PR        24  18  135\n",
       "A=pl|S|NONLEX       5   5  100\n",
       "S-PRO|PR|A-PRO=pl   6  10  101\n",
       "PRAEDIC|V|<none>    0   0    0\n",
       "CONJ|S-PRO|A=n     14  26  101\n",
       "A=n|CONJ|S-PRO     13  20  102\n",
       "CONJ|CONJ|S        59  61  367\n",
       "S|S-PRO|A=m         5  10  102\n",
       "S-PRO|S-PRO|CONJ   16  18  102"
      ]
     },
     "execution_count": 49,
     "metadata": {},
     "output_type": "execute_result"
    }
   ],
   "source": [
    "class0"
   ]
  },
  {
   "cell_type": "code",
   "execution_count": 51,
   "id": "70be4e3d",
   "metadata": {},
   "outputs": [
    {
     "data": {
      "text/plain": [
       "MannwhitneyuResult(statistic=9.5, pvalue=0.002422552646036252)"
      ]
     },
     "execution_count": 51,
     "metadata": {},
     "output_type": "execute_result"
    }
   ],
   "source": [
    "mannwhitneyu(class0[2], class0[5])"
   ]
  },
  {
   "cell_type": "code",
   "execution_count": 51,
   "id": "5dae0e84",
   "metadata": {},
   "outputs": [
    {
     "data": {
      "application/vnd.jupyter.widget-view+json": {
       "model_id": "d5433f352cca4d30bb247abb017bad25",
       "version_major": 2,
       "version_minor": 0
      },
      "text/plain": [
       "  0%|          | 0/2809 [00:00<?, ?it/s]"
      ]
     },
     "metadata": {},
     "output_type": "display_data"
    }
   ],
   "source": [
    "selected_texts = [pos_tag(filter_token_list(word_tokenize(y)), lang=\"rus\") for y in tqdm(df[df.label == 2].text.to_list())]"
   ]
  },
  {
   "cell_type": "code",
   "execution_count": 52,
   "id": "b9fec941",
   "metadata": {},
   "outputs": [],
   "source": [
    "postags_bigrams = [list(ngrams(x, 3, pad_right=True, right_pad_symbol=\"<none>\")) for x in selected_texts]\n",
    "\n",
    "rearrange_bigram = lambda x:[(\"_\".join([t1[0], t2[0], t3[0]]), \"|\".join([t1[1], t2[1], t3[1]])) for t1, t2, t3 in x] \n",
    "\n",
    "rearrenged = list(map(rearrange_bigram, postags_bigrams))\n",
    "\n",
    "from itertools import chain\n",
    "rearrenged_plain = list(chain(*rearrenged))\n",
    "\n",
    "pos_tags_top_2 = [x[0] for x in pmi[1].most_common(10)]\n",
    "pos_tags_top_1 = [x[0] for x in pmi[0].most_common(10)]\n",
    "pos_tags_top_5 = [x[0] for x in pmi[4].most_common(10)]\n",
    "\n"
   ]
  },
  {
   "cell_type": "code",
   "execution_count": 53,
   "id": "98a968df",
   "metadata": {},
   "outputs": [
    {
     "data": {
      "text/plain": [
       "[('Кажется_мне_уже', 'V|S-PRO|ADV'),\n",
       " ('реализовать_Это_очень', 'V|S-PRO|ADV'),\n",
       " ('знаю_я_вообще', 'V|S-PRO|ADV'),\n",
       " ('устала_я_сегодня', 'V|S-PRO|ADV'),\n",
       " ('делать_вам_больно', 'V|S-PRO|ADV'),\n",
       " ('сжирают_меня_изнутри', 'V|S-PRO|ADV'),\n",
       " ('смогу_я_скорее', 'V|S-PRO|ADV'),\n",
       " ('ок_всем_пока', 'V|S-PRO|ADV'),\n",
       " ('гуляю_это_очень', 'V|S-PRO|ADV'),\n",
       " ('Понимаете_я_совершенно', 'V|S-PRO|ADV'),\n",
       " ('осталось_мне_недолго', 'V|S-PRO|ADV'),\n",
       " ('ехать_тем_более', 'V|S-PRO|ADV'),\n",
       " ('блять_я_снова', 'V|S-PRO|ADV'),\n",
       " ('замечает_что_сложно', 'V|S-PRO|ADV'),\n",
       " ('думаю_все_реально', 'V|S-PRO|ADV'),\n",
       " ('тупая_Мне_абсолютно', 'V|S-PRO|ADV'),\n",
       " ('надеюсь_меня_уже', 'V|S-PRO|ADV'),\n",
       " ('простите_я_больше', 'V|S-PRO|ADV'),\n",
       " ('блять_я_опять', 'V|S-PRO|ADV'),\n",
       " ('могу_это_очень', 'V|S-PRO|ADV'),\n",
       " ('делаю_этого_недостаточно', 'V|S-PRO|ADV'),\n",
       " ('наела_я_специально', 'V|S-PRO|ADV'),\n",
       " ('заебало_всё_уже', 'V|S-PRO|ADV'),\n",
       " ('есть_я_уже', 'V|S-PRO|ADV'),\n",
       " ('разбивают_меня_психически', 'V|S-PRO|ADV'),\n",
       " ('выдержу_я_очень', 'V|S-PRO|ADV'),\n",
       " ('Дайте_мне_спокойно', 'V|S-PRO|ADV'),\n",
       " ('кажется_я_скоро', 'V|S-PRO|ADV'),\n",
       " ('меняется_я_очень', 'V|S-PRO|ADV'),\n",
       " ('надеюсь_меня_скоро', 'V|S-PRO|ADV'),\n",
       " ('преследует_меня_давно', 'V|S-PRO|ADV'),\n",
       " ('пошла_я_нахуй', 'V|S-PRO|ADV'),\n",
       " ('сдохнуть_Мне_слишком', 'V|S-PRO|ADV'),\n",
       " ('трогайте_меня_пока', 'V|S-PRO|ADV'),\n",
       " ('хочу_никого_рядом', 'V|S-PRO|ADV'),\n",
       " ('простите_я_уже', 'V|S-PRO|ADV'),\n",
       " ('кажется_я_слишком', 'V|S-PRO|ADV'),\n",
       " ('осчастливить_их_Очевидно', 'V|S-PRO|ADV'),\n",
       " ('надеюсь_я_реально', 'V|S-PRO|ADV'),\n",
       " ('шатаешься_Я_нормально', 'V|S-PRO|ADV'),\n",
       " ('трясутся_Я_нормально', 'V|S-PRO|ADV'),\n",
       " ('пугает_мне_ещё', 'V|S-PRO|ADV'),\n",
       " ('поговорить_Он_довольно', 'V|S-PRO|ADV'),\n",
       " ('сказать_что_реально', 'V|S-PRO|ADV'),\n",
       " ('хочешь_ему_абсолютно', 'V|S-PRO|ADV'),\n",
       " ('смогла_никому_полностью', 'V|S-PRO|ADV'),\n",
       " ('отвлекать_все_равно', 'V|S-PRO|ADV'),\n",
       " ('объясняли_Мне_страшно', 'V|S-PRO|ADV'),\n",
       " ('есть_я_уже', 'V|S-PRO|ADV'),\n",
       " ('прокрастинируя_её_уже', 'V|S-PRO|ADV'),\n",
       " ('кажется_я_снова', 'V|S-PRO|ADV'),\n",
       " ('узнали_меня_достаточно', 'V|S-PRO|ADV'),\n",
       " ('блять_это_скоро', 'V|S-PRO|ADV'),\n",
       " ('пожаловать_я_очень', 'V|S-PRO|ADV'),\n",
       " ('знайте_я_нахуй', 'V|S-PRO|ADV'),\n",
       " ('пидорасит_я_опять', 'V|S-PRO|ADV'),\n",
       " ('ненавижу_всё_вокруг', 'V|S-PRO|ADV'),\n",
       " ('знающий_меня_лично', 'V|S-PRO|ADV'),\n",
       " ('любим_меня_вместе', 'V|S-PRO|ADV'),\n",
       " ('плачу_Я_снова', 'V|S-PRO|ADV'),\n",
       " ('родился_Я_очень', 'V|S-PRO|ADV'),\n",
       " ('Кажется_мне_вообще', 'V|S-PRO|ADV'),\n",
       " ('плакать_это_ужасно', 'V|S-PRO|ADV'),\n",
       " ('связано_меня_вообще', 'V|S-PRO|ADV'),\n",
       " ('неужели_я_настолько', 'V|S-PRO|ADV'),\n",
       " ('хуёво_мне_всё', 'V|S-PRO|ADV'),\n",
       " ('будет_я_всё', 'V|S-PRO|ADV'),\n",
       " ('может_вы_уже', 'V|S-PRO|ADV'),\n",
       " ('люблю_всех_вокруг', 'V|S-PRO|ADV'),\n",
       " ('заметили_все_плохо', 'V|S-PRO|ADV'),\n",
       " ('доиграетесь_я_реально', 'V|S-PRO|ADV'),\n",
       " ('тыкаться_Я_ее', 'V|S-PRO|ADV'),\n",
       " ('беспомощен_я_опять', 'V|S-PRO|ADV'),\n",
       " ('умираю_Я_настолько', 'V|S-PRO|ADV'),\n",
       " ('умереть_я_снова', 'V|S-PRO|ADV'),\n",
       " ('нравятся_Я_наверное', 'V|S-PRO|ADV'),\n",
       " ('понимаю_я_реально', 'V|S-PRO|ADV'),\n",
       " ('заебалась_я_больше', 'V|S-PRO|ADV'),\n",
       " ('знаю_что_снова', 'V|S-PRO|ADV'),\n",
       " ('неужели_я_настолько', 'V|S-PRO|ADV'),\n",
       " ('держусь_Я_явно', 'V|S-PRO|ADV'),\n",
       " ('усё_мне_стремно', 'V|S-PRO|ADV'),\n",
       " ('злиться_мне_попросту', 'V|S-PRO|ADV'),\n",
       " ('хорошее_я_настолько', 'V|S-PRO|ADV'),\n",
       " ('общаюсь_я_очень', 'V|S-PRO|ADV'),\n",
       " ('блять_я_очень', 'V|S-PRO|ADV'),\n",
       " ('жить_я_слишком', 'V|S-PRO|ADV'),\n",
       " ('потеряла_её_навсегда', 'V|S-PRO|ADV'),\n",
       " ('угадайте_кто_сегодня', 'V|S-PRO|ADV'),\n",
       " ('может_я_уже', 'V|S-PRO|ADV'),\n",
       " ('блять_кто_нахуй', 'V|S-PRO|ADV'),\n",
       " ('ЗНАЮ_Я_ЩАС', 'V|S-PRO|ADV'),\n",
       " ('знают_всё_хорошо', 'V|S-PRO|ADV'),\n",
       " ('делать_Меня_всё', 'V|S-PRO|ADV'),\n",
       " ('чувствовать_его_хорошо', 'V|S-PRO|ADV'),\n",
       " ('знаю_я_би', 'V|S-PRO|ADV'),\n",
       " ('делать_Мне_слишком', 'V|S-PRO|ADV'),\n",
       " ('плакать_Тем_более', 'V|S-PRO|ADV'),\n",
       " ('игнорируют_это_грустно', 'V|S-PRO|ADV'),\n",
       " ('напишет_это_ненормально', 'V|S-PRO|ADV')]"
      ]
     },
     "execution_count": 53,
     "metadata": {},
     "output_type": "execute_result"
    }
   ],
   "source": [
    "list(filter(lambda x: x[1] == \"V|S-PRO|ADV\",rearrenged_plain))#[:30]"
   ]
  },
  {
   "cell_type": "markdown",
   "id": "e0a11272",
   "metadata": {},
   "source": [
    "# Capital words analysis"
   ]
  },
  {
   "cell_type": "code",
   "execution_count": 28,
   "id": "b4424a12",
   "metadata": {},
   "outputs": [],
   "source": [
    "df_['capital'] =  df.text.apply(lambda x: 1 if re.search(r\"[А-Я]{2,}\", x) != None else 0)"
   ]
  },
  {
   "cell_type": "code",
   "execution_count": 29,
   "id": "36b6a6ac",
   "metadata": {},
   "outputs": [
    {
     "data": {
      "text/html": [
       "<div>\n",
       "<style scoped>\n",
       "    .dataframe tbody tr th:only-of-type {\n",
       "        vertical-align: middle;\n",
       "    }\n",
       "\n",
       "    .dataframe tbody tr th {\n",
       "        vertical-align: top;\n",
       "    }\n",
       "\n",
       "    .dataframe thead th {\n",
       "        text-align: right;\n",
       "    }\n",
       "</style>\n",
       "<table border=\"1\" class=\"dataframe\">\n",
       "  <thead>\n",
       "    <tr style=\"text-align: right;\">\n",
       "      <th>capital</th>\n",
       "      <th>0</th>\n",
       "      <th>1</th>\n",
       "    </tr>\n",
       "    <tr>\n",
       "      <th>label</th>\n",
       "      <th></th>\n",
       "      <th></th>\n",
       "    </tr>\n",
       "  </thead>\n",
       "  <tbody>\n",
       "    <tr>\n",
       "      <th>1</th>\n",
       "      <td>1918</td>\n",
       "      <td>211</td>\n",
       "    </tr>\n",
       "    <tr>\n",
       "      <th>2</th>\n",
       "      <td>2562</td>\n",
       "      <td>246</td>\n",
       "    </tr>\n",
       "    <tr>\n",
       "      <th>5</th>\n",
       "      <td>24409</td>\n",
       "      <td>2856</td>\n",
       "    </tr>\n",
       "  </tbody>\n",
       "</table>\n",
       "</div>"
      ],
      "text/plain": [
       "capital      0     1\n",
       "label               \n",
       "1         1918   211\n",
       "2         2562   246\n",
       "5        24409  2856"
      ]
     },
     "execution_count": 29,
     "metadata": {},
     "output_type": "execute_result"
    }
   ],
   "source": [
    "pd.crosstab(df_.label, df_.capital)"
   ]
  },
  {
   "cell_type": "code",
   "execution_count": 30,
   "id": "d6b1d09d",
   "metadata": {},
   "outputs": [
    {
     "data": {
      "text/plain": [
       "Power_divergenceResult(statistic=array([34045.87303126,  4168.23121038]), pvalue=array([0., 0.]))"
      ]
     },
     "execution_count": 30,
     "metadata": {},
     "output_type": "execute_result"
    }
   ],
   "source": [
    "chisquare(pd.crosstab(df_.label, df_.capital) )"
   ]
  },
  {
   "cell_type": "code",
   "execution_count": 31,
   "id": "7e22ddd7",
   "metadata": {},
   "outputs": [
    {
     "data": {
      "text/plain": [
       "(8.457783951984814,\n",
       " 0.014568523882922024,\n",
       " 2,\n",
       " array([[ 1909.96462953,   219.03537047],\n",
       "        [ 2519.1078815 ,   288.8921185 ],\n",
       "        [24459.92748898,  2805.07251102]]))"
      ]
     },
     "execution_count": 31,
     "metadata": {},
     "output_type": "execute_result"
    }
   ],
   "source": [
    "chi2_contingency(pd.crosstab(df_.label, df_.capital) )"
   ]
  },
  {
   "cell_type": "markdown",
   "id": "7c33594d",
   "metadata": {},
   "source": [
    "# Sentiment correlation analysis"
   ]
  },
  {
   "cell_type": "code",
   "execution_count": 36,
   "id": "22f2c4b7",
   "metadata": {},
   "outputs": [],
   "source": [
    "def get_sentiments(text:list):\n",
    "    tokenizer = RegexTokenizer()\n",
    "    model = FastTextSocialNetworkModel(tokenizer=tokenizer)\n",
    "\n",
    "    for x in text:\n",
    "        if not isinstance( x, str):\n",
    "            print(x)\n",
    "    \n",
    "    results = model.predict(text, k=1)\n",
    "    label = []\n",
    "    score = []\n",
    "    for x, y in list([list(x.items())[0] for x in results]):\n",
    "        label.append(x)\n",
    "        score.append(y)\n",
    "    return label, score"
   ]
  },
  {
   "cell_type": "code",
   "execution_count": 37,
   "id": "74ff512f",
   "metadata": {},
   "outputs": [
    {
     "name": "stderr",
     "output_type": "stream",
     "text": [
      "Warning : `load_model` does not return WordVectorModel or SupervisedModel any more, but a `FastText` object which is very similar.\n"
     ]
    }
   ],
   "source": [
    "sent_label, sent_score = get_sentiments(df.text.apply(lambda x: x.lower()).tolist())\n",
    "        \n",
    "df[\"sentiment\"] = sent_label\n",
    "df[\"score\"] = sent_score\n"
   ]
  },
  {
   "cell_type": "code",
   "execution_count": 38,
   "id": "6bd93993",
   "metadata": {},
   "outputs": [],
   "source": [
    "df = df[~df.sentiment.isin([\"skip\", \"speech\"])]\n",
    "sent2score = {\"neutral\": 0, \"negative\": -1, \"positive\": 1}\n",
    "df[\"sentiment\"] = df.sentiment.apply(lambda x: sent2score[x])"
   ]
  },
  {
   "cell_type": "code",
   "execution_count": 65,
   "id": "b34b5221",
   "metadata": {},
   "outputs": [
    {
     "data": {
      "text/plain": [
       "(1029.8912577797319,\n",
       " 1.1872955235190992e-221,\n",
       " 4,\n",
       " array([[ 558.38820134,  817.69021181,  224.92158685],\n",
       "        [ 689.87624126, 1010.23812552,  277.88563322],\n",
       "        [5881.7355574 , 8613.07166267, 2369.19277992]]))"
      ]
     },
     "execution_count": 65,
     "metadata": {},
     "output_type": "execute_result"
    }
   ],
   "source": [
    "chi2_contingency(pd.crosstab(df_.label, df_.sentiment))"
   ]
  },
  {
   "cell_type": "code",
   "execution_count": 41,
   "id": "64c65a78",
   "metadata": {},
   "outputs": [
    {
     "data": {
      "text/plain": [
       "(1526.1681897032545,\n",
       " 0.0,\n",
       " 8,\n",
       " array([[6.63162332e+02, 1.04029491e+03, 2.78542756e+02],\n",
       "        [8.80647456e+02, 1.38146126e+03, 3.69891288e+02],\n",
       "        [6.35725747e+00, 9.97255466e+00, 2.67018787e+00],\n",
       "        [6.12304272e+01, 9.60514475e+01, 2.57181253e+01],\n",
       "        [8.39760253e+03, 1.31732198e+04, 3.52717764e+03]]))"
      ]
     },
     "execution_count": 41,
     "metadata": {},
     "output_type": "execute_result"
    }
   ],
   "source": [
    "chisquare(pd.crosstab(df.label, df.sentiment))\n",
    "chi2_contingency(pd.crosstab(df.label, df.sentiment))"
   ]
  },
  {
   "cell_type": "code",
   "execution_count": 44,
   "id": "85749a72",
   "metadata": {},
   "outputs": [],
   "source": [
    "def cramers_v(confusion_matrix):\n",
    "    \"\"\" calculate Cramers V statistic for categorial-categorial association.\n",
    "        uses correction from Bergsma and Wicher,\n",
    "        Journal of the Korean Statistical Society 42 (2013): 323-328\n",
    "    \"\"\"\n",
    "    chi2 = chi2_contingency(confusion_matrix)[0]\n",
    "    n = confusion_matrix.sum()\n",
    "    phi2 = chi2 / n\n",
    "    r, k = confusion_matrix.shape\n",
    "    phi2corr = max(0, phi2 - ((k-1)*(r-1))/(n-1))\n",
    "    rcorr = r - ((r-1)**2)/(n-1)\n",
    "    kcorr = k - ((k-1)**2)/(n-1)\n",
    "    return np.sqrt(phi2corr / min((kcorr-1), (rcorr-1)))\n"
   ]
  },
  {
   "cell_type": "code",
   "execution_count": 45,
   "id": "dccbd987",
   "metadata": {},
   "outputs": [
    {
     "data": {
      "text/plain": [
       "0.1593023498288088"
      ]
     },
     "execution_count": 45,
     "metadata": {},
     "output_type": "execute_result"
    }
   ],
   "source": [
    "cramers_v(pd.crosstab(df.label, df.sentiment).values)"
   ]
  },
  {
   "cell_type": "markdown",
   "id": "dd80591a",
   "metadata": {},
   "source": [
    "# Capital vs sentiment"
   ]
  },
  {
   "cell_type": "code",
   "execution_count": 72,
   "id": "4a41ad4d",
   "metadata": {},
   "outputs": [
    {
     "data": {
      "text/plain": [
       "(104.71329416782757,\n",
       " 1.8272462551845212e-23,\n",
       " 2,\n",
       " array([[6389.5514357 , 9356.70498459, 2573.74357971],\n",
       "        [ 740.4485643 , 1084.29501541,  298.25642029]]))"
      ]
     },
     "execution_count": 72,
     "metadata": {},
     "output_type": "execute_result"
    }
   ],
   "source": [
    "chi2_contingency(pd.crosstab(df_.capital, df_.sentiment))"
   ]
  },
  {
   "cell_type": "code",
   "execution_count": 75,
   "id": "0a467eab",
   "metadata": {},
   "outputs": [
    {
     "data": {
      "text/html": [
       "<div>\n",
       "<style scoped>\n",
       "    .dataframe tbody tr th:only-of-type {\n",
       "        vertical-align: middle;\n",
       "    }\n",
       "\n",
       "    .dataframe tbody tr th {\n",
       "        vertical-align: top;\n",
       "    }\n",
       "\n",
       "    .dataframe thead th {\n",
       "        text-align: right;\n",
       "    }\n",
       "</style>\n",
       "<table border=\"1\" class=\"dataframe\">\n",
       "  <thead>\n",
       "    <tr style=\"text-align: right;\">\n",
       "      <th>sentiment</th>\n",
       "      <th>-1</th>\n",
       "      <th>0</th>\n",
       "      <th>1</th>\n",
       "    </tr>\n",
       "    <tr>\n",
       "      <th>capital</th>\n",
       "      <th></th>\n",
       "      <th></th>\n",
       "      <th></th>\n",
       "    </tr>\n",
       "  </thead>\n",
       "  <tbody>\n",
       "    <tr>\n",
       "      <th>0</th>\n",
       "      <td>6199</td>\n",
       "      <td>9572</td>\n",
       "      <td>2549</td>\n",
       "    </tr>\n",
       "    <tr>\n",
       "      <th>1</th>\n",
       "      <td>931</td>\n",
       "      <td>869</td>\n",
       "      <td>323</td>\n",
       "    </tr>\n",
       "  </tbody>\n",
       "</table>\n",
       "</div>"
      ],
      "text/plain": [
       "sentiment    -1     0     1\n",
       "capital                    \n",
       "0          6199  9572  2549\n",
       "1           931   869   323"
      ]
     },
     "execution_count": 75,
     "metadata": {},
     "output_type": "execute_result"
    }
   ],
   "source": [
    "pd.crosstab(df_.capital, df_.sentiment)"
   ]
  },
  {
   "cell_type": "code",
   "execution_count": 73,
   "id": "2ca7097c",
   "metadata": {},
   "outputs": [
    {
     "data": {
      "text/plain": [
       "Power_divergenceResult(statistic=array([3892.26143058, 7254.30600517, 1725.30501393]), pvalue=array([0., 0., 0.]))"
      ]
     },
     "execution_count": 73,
     "metadata": {},
     "output_type": "execute_result"
    }
   ],
   "source": [
    "chisquare(pd.crosstab(df_.capital, df_.sentiment))"
   ]
  },
  {
   "cell_type": "code",
   "execution_count": 74,
   "id": "9706822a",
   "metadata": {},
   "outputs": [
    {
     "data": {
      "text/plain": [
       "0.07088452453947905"
      ]
     },
     "execution_count": 74,
     "metadata": {},
     "output_type": "execute_result"
    }
   ],
   "source": [
    "cramers_v(pd.crosstab(df_.capital, df_.sentiment).values)"
   ]
  },
  {
   "cell_type": "markdown",
   "id": "8cfd7698",
   "metadata": {},
   "source": [
    "# Vocab induction"
   ]
  },
  {
   "cell_type": "markdown",
   "id": "81949f81",
   "metadata": {},
   "source": [
    "## Specific words induction"
   ]
  },
  {
   "cell_type": "code",
   "execution_count": 20,
   "id": "9be6ccd1",
   "metadata": {},
   "outputs": [],
   "source": [
    "df = pd.concat([pd.read_csv(\"data/mokoron/negative.csv\", sep=\";\", header=None),\n",
    "                pd.read_csv(\"data/mokoron/positive.csv\", sep=\";\", header=None)])"
   ]
  },
  {
   "cell_type": "code",
   "execution_count": 21,
   "id": "81bf14fc",
   "metadata": {},
   "outputs": [],
   "source": [
    "ref_corp = df[3].to_list()"
   ]
  },
  {
   "cell_type": "code",
   "execution_count": 22,
   "id": "d9bbe3c6",
   "metadata": {},
   "outputs": [],
   "source": [
    "df = pd.read_csv(\"data/twitter_dataset.csv\", sep=\"|\")\n",
    "df.text = df.text.astype(str)\n",
    "df = df[df.text != \"<no text>\"]\n",
    "corp = df.text.to_list()"
   ]
  },
  {
   "cell_type": "code",
   "execution_count": 23,
   "id": "bbf7348d",
   "metadata": {},
   "outputs": [],
   "source": [
    "def get_common_words_intersect(lst1, lst2):\n",
    "    c1 = Counter(lst1)\n",
    "    c2 = Counter(lst2)\n",
    "    return Counter({ k: c1[k] + c2[k] for k in c1.keys() & c2.keys() }), c1, c2\n",
    "\n",
    "list2words = lambda x: word_tokenize(' '.join(x))"
   ]
  },
  {
   "cell_type": "code",
   "execution_count": 24,
   "id": "8ec33ca4",
   "metadata": {},
   "outputs": [],
   "source": [
    "#corp = df.text.to_list()\n",
    "def preprocess(corp):\n",
    "    con = Conveyer(['remove_punct', \"lower_string\", \"swap_enter_to_space\", \"collapse_spaces\"])\n",
    "    corp = list(map(lambda x: re.sub(r\"<emoji>.+</emoji>\", \"\", x), corp))\n",
    "    corp = list(filter(lambda x: \"<no text>\" not in x, corp))\n",
    "    corp = list(map(lambda x:re.sub(\"[A-Za-z]+\", '', x), corp))\n",
    "    #corp = list(map(lambda x:re.sub(\"[^А-Яа-я]+\", '', x), corp))\n",
    "    #corp = list(filter(lambda x: x.isalpha(), corp))\n",
    "    corp = con.start(corp)\n",
    "    corp = list(filter(lambda x: len(x) > 2, corp))\n",
    "    return corp\n",
    "\n",
    "def preprocess(corp):\n",
    "    con = Conveyer([(\"remove_custom_regex\", [\"<emoji>.+</emoji>\"]),\n",
    "                    (\"remove_custom_regex\", [\"[A-Za-z]+]\"]),\n",
    "                    'remove_non_cyrillic',\n",
    "                    'remove_punct', \n",
    "                    \"lower_string\", \n",
    "                    \"swap_enter_to_space\",\n",
    "                    \"lemmatize_by_mystem\"\n",
    "                    \"collapse_spaces\",])\n",
    "    #corp = list(map(lambda x: re.sub(r\"<emoji>.+</emoji>\", \"\", x), corp))    \n",
    "    #corp = list(map(lambda x:re.sub(\"[A-Za-z]+\", '', x), corp))\n",
    "    corp = con.start(corp)\n",
    "    #corp = list(filter(lambda x: len(x) > 2, corp))\n",
    "    return corp\n",
    "\n",
    "con_vocab_induction = Conveyer([(\"remove_custom_regex\", [\"<emoji>.+</emoji>\"]),\n",
    "                    (\"remove_custom_regex\", [\"[A-Za-z]+]\"]),\n",
    "                    'remove_non_cyrillic',\n",
    "                    'remove_punct', \n",
    "                    \"lower_string\", \n",
    "                    \"swap_enter_to_space\",\n",
    "                    \"lemmatize_by_mystem\",\n",
    "                    \"collapse_spaces\",])"
   ]
  },
  {
   "cell_type": "code",
   "execution_count": 25,
   "id": "0b281542",
   "metadata": {},
   "outputs": [],
   "source": [
    "ref_corp = con_vocab_induction.start(ref_corp)\n",
    "corp = con_vocab_induction.start(corp)"
   ]
  },
  {
   "cell_type": "code",
   "execution_count": 26,
   "id": "19fa24eb",
   "metadata": {},
   "outputs": [],
   "source": [
    "ref_corp_tokens = list2words(ref_corp[:len(corp)])\n",
    "corp_tokens = list2words(corp)"
   ]
  },
  {
   "cell_type": "code",
   "execution_count": 27,
   "id": "0f0e5568",
   "metadata": {},
   "outputs": [],
   "source": [
    "c = Counter(corp_tokens)\n",
    "cc = []\n",
    "for i in set(corp_tokens) - set(ref_corp_tokens):\n",
    "    cc.append((i, c[i]))"
   ]
  },
  {
   "cell_type": "code",
   "execution_count": 28,
   "id": "043dc311",
   "metadata": {},
   "outputs": [],
   "source": [
    "cc.sort(key=lambda x: x[1], reverse=True)"
   ]
  },
  {
   "cell_type": "code",
   "execution_count": 29,
   "id": "e261124a",
   "metadata": {},
   "outputs": [
    {
     "data": {
      "text/plain": [
       "[('мема', 102),\n",
       " ('дазай', 97),\n",
       " ('геншин', 82),\n",
       " ('мью', 81),\n",
       " ('тикток', 76),\n",
       " ('краш', 74),\n",
       " ('рп', 65),\n",
       " ('хорня', 63),\n",
       " ('дилюк', 57),\n",
       " ('вайба', 55),\n",
       " ('бсд', 52),\n",
       " ('ментальный', 50),\n",
       " ('секси', 50),\n",
       " ('пж', 49),\n",
       " ('рпп', 48),\n",
       " ('атсума', 48),\n",
       " ('фд', 46),\n",
       " ('осама', 45),\n",
       " ('эстетика', 43),\n",
       " ('косплей', 40)]"
      ]
     },
     "execution_count": 29,
     "metadata": {},
     "output_type": "execute_result"
    }
   ],
   "source": [
    "cc[:20]"
   ]
  },
  {
   "cell_type": "code",
   "execution_count": 69,
   "id": "ef47a8ca",
   "metadata": {},
   "outputs": [],
   "source": [
    "#wordcloud = WordCloud(width=800, height=600, collocations=False).generate(text)\n",
    "#wordcloud.to_image()"
   ]
  },
  {
   "cell_type": "markdown",
   "id": "64f93a6b",
   "metadata": {},
   "source": [
    "## Applying HTZ"
   ]
  },
  {
   "cell_type": "code",
   "execution_count": 30,
   "id": "d6725966",
   "metadata": {},
   "outputs": [],
   "source": [
    "from math import log\n",
    "import numpy as np"
   ]
  },
  {
   "cell_type": "code",
   "execution_count": 72,
   "id": "46e23347",
   "metadata": {},
   "outputs": [],
   "source": [
    "texts = df.text.to_list()\n",
    "texts = con_vocab_induction.start(texts)\n",
    "#texts = np.array([word_tokenize(x) for x in texts])"
   ]
  },
  {
   "cell_type": "code",
   "execution_count": 80,
   "id": "d59d5d13",
   "metadata": {},
   "outputs": [
    {
     "name": "stderr",
     "output_type": "stream",
     "text": [
      "/tmp/ipykernel_18293/399976994.py:3: VisibleDeprecationWarning: Creating an ndarray from ragged nested sequences (which is a list-or-tuple of lists-or-tuples-or ndarrays with different lengths or shapes) is deprecated. If you meant to do this, you must specify 'dtype=object' when creating the ndarray.\n",
      "  texts = np.array(texts)\n"
     ]
    }
   ],
   "source": [
    "#texts = [word_tokenize(x) for x in texts]\n",
    "texts = [list(filter(lambda x: len(x) > 1, y)) for y in texts]\n",
    "texts = np.array(texts)"
   ]
  },
  {
   "cell_type": "code",
   "execution_count": 82,
   "id": "933d9814",
   "metadata": {},
   "outputs": [
    {
     "data": {
      "text/plain": [
       "(32785,)"
      ]
     },
     "execution_count": 82,
     "metadata": {},
     "output_type": "execute_result"
    }
   ],
   "source": [
    "texts.shape"
   ]
  },
  {
   "cell_type": "code",
   "execution_count": 83,
   "id": "3960c76f",
   "metadata": {},
   "outputs": [],
   "source": [
    "def get_idf(texts: list):\n",
    "    idf = Counter()\n",
    "    for t in texts:\n",
    "        for w in set(t):\n",
    "            idf[w] += 1\n",
    "    for w in idf:\n",
    "        idf[w] = log(len(texts)/idf[w], 2)\n",
    "    return idf"
   ]
  },
  {
   "cell_type": "code",
   "execution_count": 84,
   "id": "20df2c87",
   "metadata": {},
   "outputs": [],
   "source": [
    "from typing import Union\n",
    "\n",
    "def heaviside(x: Union[int, float]):\n",
    "    if x< 0:\n",
    "        return 0\n",
    "    elif x == 0:\n",
    "        return 0.5\n",
    "    else:\n",
    "        return x\n",
    "\n",
    "def get_htz(text_inclass: list, text_outclass: list):\n",
    "    metric = []\n",
    "    t1 = get_idf(text_inclass)\n",
    "    t2 = get_idf(text_outclass)\n",
    "    for w in t1:\n",
    "        delta = t2[w] - t1[w]\n",
    "        metric.append( (w, delta * heaviside(delta)) )\n",
    "    metric.sort(key = lambda x: x[1], reverse=True)\n",
    "\n",
    "    return metric"
   ]
  },
  {
   "cell_type": "code",
   "execution_count": 63,
   "id": "89eacca6",
   "metadata": {},
   "outputs": [],
   "source": []
  },
  {
   "cell_type": "code",
   "execution_count": 87,
   "id": "268d4f49",
   "metadata": {},
   "outputs": [],
   "source": [
    "lexicon = {1:[], 2:[], 5:[]}\n",
    "for label in lexicon:\n",
    "    in_class = texts[df[df.label == label].index]\n",
    "    out_class = texts[df[df.label != label].index]\n",
    "    \n",
    "    lexicon[label] = [x[0] for x in get_htz(in_class, out_class)][:20]"
   ]
  },
  {
   "cell_type": "code",
   "execution_count": 88,
   "id": "797a9c88",
   "metadata": {},
   "outputs": [
    {
     "data": {
      "text/html": [
       "<div>\n",
       "<style scoped>\n",
       "    .dataframe tbody tr th:only-of-type {\n",
       "        vertical-align: middle;\n",
       "    }\n",
       "\n",
       "    .dataframe tbody tr th {\n",
       "        vertical-align: top;\n",
       "    }\n",
       "\n",
       "    .dataframe thead th {\n",
       "        text-align: right;\n",
       "    }\n",
       "</style>\n",
       "<table border=\"1\" class=\"dataframe\">\n",
       "  <thead>\n",
       "    <tr style=\"text-align: right;\">\n",
       "      <th></th>\n",
       "      <th>1</th>\n",
       "      <th>2</th>\n",
       "      <th>5</th>\n",
       "    </tr>\n",
       "  </thead>\n",
       "  <tbody>\n",
       "    <tr>\n",
       "      <th>0</th>\n",
       "      <td>прл</td>\n",
       "      <td>сато</td>\n",
       "      <td>мью</td>\n",
       "    </tr>\n",
       "    <tr>\n",
       "      <th>1</th>\n",
       "      <td>антидепрессант</td>\n",
       "      <td>чудовище</td>\n",
       "      <td>чуять</td>\n",
       "    </tr>\n",
       "    <tr>\n",
       "      <th>2</th>\n",
       "      <td>рвота</td>\n",
       "      <td>усталый</td>\n",
       "      <td>сезон</td>\n",
       "    </tr>\n",
       "    <tr>\n",
       "      <th>3</th>\n",
       "      <td>больничка</td>\n",
       "      <td>медосмотр</td>\n",
       "      <td>вайба</td>\n",
       "    </tr>\n",
       "    <tr>\n",
       "      <th>4</th>\n",
       "      <td>галлюцинация</td>\n",
       "      <td>поплакать</td>\n",
       "      <td>хорня</td>\n",
       "    </tr>\n",
       "    <tr>\n",
       "      <th>5</th>\n",
       "      <td>побочка</td>\n",
       "      <td>подпускать</td>\n",
       "      <td>добавлять</td>\n",
       "    </tr>\n",
       "    <tr>\n",
       "      <th>6</th>\n",
       "      <td>бессонница</td>\n",
       "      <td>забиваться</td>\n",
       "      <td>картинка</td>\n",
       "    </tr>\n",
       "    <tr>\n",
       "      <th>7</th>\n",
       "      <td>частичка</td>\n",
       "      <td>унижение</td>\n",
       "      <td>читатель</td>\n",
       "    </tr>\n",
       "    <tr>\n",
       "      <th>8</th>\n",
       "      <td>кп</td>\n",
       "      <td>подавлять</td>\n",
       "      <td>вкус</td>\n",
       "    </tr>\n",
       "    <tr>\n",
       "      <th>9</th>\n",
       "      <td>порез</td>\n",
       "      <td>комок</td>\n",
       "      <td>ау</td>\n",
       "    </tr>\n",
       "    <tr>\n",
       "      <th>10</th>\n",
       "      <td>диагноз</td>\n",
       "      <td>прорыдать</td>\n",
       "      <td>дазай</td>\n",
       "    </tr>\n",
       "    <tr>\n",
       "      <th>11</th>\n",
       "      <td>селфхармить</td>\n",
       "      <td>упорно</td>\n",
       "      <td>петь</td>\n",
       "    </tr>\n",
       "    <tr>\n",
       "      <th>12</th>\n",
       "      <td>препарат</td>\n",
       "      <td>расхуярить</td>\n",
       "      <td>солнышко</td>\n",
       "    </tr>\n",
       "    <tr>\n",
       "      <th>13</th>\n",
       "      <td>желчь</td>\n",
       "      <td>здохнуть</td>\n",
       "      <td>фанфик</td>\n",
       "    </tr>\n",
       "    <tr>\n",
       "      <th>14</th>\n",
       "      <td>выстраивать</td>\n",
       "      <td>ничтожный</td>\n",
       "      <td>спиздить</td>\n",
       "    </tr>\n",
       "    <tr>\n",
       "      <th>15</th>\n",
       "      <td>тревожка</td>\n",
       "      <td>пусто</td>\n",
       "      <td>геншин</td>\n",
       "    </tr>\n",
       "    <tr>\n",
       "      <th>16</th>\n",
       "      <td>трезвый</td>\n",
       "      <td>шататься</td>\n",
       "      <td>рт</td>\n",
       "    </tr>\n",
       "    <tr>\n",
       "      <th>17</th>\n",
       "      <td>биполярка</td>\n",
       "      <td>уебись</td>\n",
       "      <td>косплей</td>\n",
       "    </tr>\n",
       "    <tr>\n",
       "      <th>18</th>\n",
       "      <td>доебывать</td>\n",
       "      <td>кулак</td>\n",
       "      <td>мило</td>\n",
       "    </tr>\n",
       "    <tr>\n",
       "      <th>19</th>\n",
       "      <td>перечить</td>\n",
       "      <td>будовать</td>\n",
       "      <td>тикток</td>\n",
       "    </tr>\n",
       "  </tbody>\n",
       "</table>\n",
       "</div>"
      ],
      "text/plain": [
       "                 1           2          5\n",
       "0              прл        сато        мью\n",
       "1   антидепрессант    чудовище      чуять\n",
       "2            рвота     усталый      сезон\n",
       "3        больничка   медосмотр      вайба\n",
       "4     галлюцинация   поплакать      хорня\n",
       "5          побочка  подпускать  добавлять\n",
       "6       бессонница  забиваться   картинка\n",
       "7         частичка    унижение   читатель\n",
       "8               кп   подавлять       вкус\n",
       "9            порез       комок         ау\n",
       "10         диагноз   прорыдать      дазай\n",
       "11     селфхармить      упорно       петь\n",
       "12        препарат  расхуярить   солнышко\n",
       "13           желчь    здохнуть     фанфик\n",
       "14     выстраивать   ничтожный   спиздить\n",
       "15        тревожка       пусто     геншин\n",
       "16         трезвый    шататься         рт\n",
       "17       биполярка      уебись    косплей\n",
       "18       доебывать       кулак       мило\n",
       "19        перечить    будовать     тикток"
      ]
     },
     "execution_count": 88,
     "metadata": {},
     "output_type": "execute_result"
    }
   ],
   "source": [
    "pd.DataFrame(lexicon)"
   ]
  },
  {
   "cell_type": "code",
   "execution_count": 31,
   "id": "0b5124e1",
   "metadata": {},
   "outputs": [],
   "source": [
    "def preprocess(corp):\n",
    "    con = Conveyer(['remove_punct', \"lower_string\", \"swap_enter_to_space\", \"collapse_spaces\"])\n",
    "    #r = re.compile(\"|\".join([f\"({x})\" for x in russian_stopwords]))\n",
    "    corp = list(map(lambda x: re.sub(r\"<emoji>.+</emoji>\", \"\", x), corp))\n",
    "    corp = list(filter(lambda x: \"<no text>\" not in x, corp))\n",
    "    corp = list(map(lambda x:re.sub(\"[A-Za-z]+\", '', x), corp))\n",
    "    #corp = list(map(lambda x: re.sub(r, \"\", x), corp))\n",
    "    #corp = list(map(lambda x:re.sub(\"[^А-Яа-я]+\", '', x), corp))\n",
    "    #corp = list(filter(lambda x: x.isalpha(), corp))\n",
    "    corp = con.start(corp)\n",
    "    corp = list(filter(lambda x: len(x) > 2, corp))\n",
    "    return corp"
   ]
  },
  {
   "cell_type": "markdown",
   "id": "8ffc4063",
   "metadata": {},
   "source": [
    "## Applying RTD"
   ]
  },
  {
   "cell_type": "code",
   "execution_count": 223,
   "id": "00d9bda5",
   "metadata": {},
   "outputs": [],
   "source": [
    "#ref_corp = preprocess(ref_corp)\n",
    "#corp = preprocess(corp)"
   ]
  },
  {
   "cell_type": "code",
   "execution_count": 224,
   "id": "acd4e2b0",
   "metadata": {},
   "outputs": [],
   "source": [
    "#ref_corp_tokens = list2words(ref_corp[:len(corp)])\n",
    "#corp_tokens = list2words(corp)"
   ]
  },
  {
   "cell_type": "code",
   "execution_count": 32,
   "id": "056342a1",
   "metadata": {},
   "outputs": [],
   "source": [
    "ref_corp_tokens = list(filter(lambda x: x.isalpha(), ref_corp_tokens))\n",
    "corp_tokens = list(filter(lambda x: x.isalpha(), corp_tokens))"
   ]
  },
  {
   "cell_type": "code",
   "execution_count": 36,
   "id": "4cf082c7",
   "metadata": {},
   "outputs": [],
   "source": [
    "russian_stopwords += [\"который\", \"оо\", \"ещ\"]"
   ]
  },
  {
   "cell_type": "code",
   "execution_count": 37,
   "id": "cf825d11",
   "metadata": {},
   "outputs": [],
   "source": [
    "ref_corp_tokens = list(filter(lambda x: x not in russian_stopwords, ref_corp_tokens))\n",
    "corp_tokens = list(filter(lambda x: x not in russian_stopwords, corp_tokens))"
   ]
  },
  {
   "cell_type": "code",
   "execution_count": 38,
   "id": "c8024898",
   "metadata": {},
   "outputs": [],
   "source": [
    "common_words, corp1_freq, corp2_freq  = get_common_words_intersect(corp_tokens,ref_corp_tokens)\n",
    "common_words = common_words.most_common()\n",
    "common_words = [x[0] for x in common_words]\n",
    "tokens_df1_freq = []\n",
    "tokens_df2_freq = []\n",
    "\n",
    "corp1_freq = [x[0] for x in corp1_freq.most_common()]\n",
    "corp2_freq = [x[0] for x in corp2_freq.most_common()] \n",
    "for w in common_words:\n",
    "    try:\n",
    "        tokens_df1_freq.append(corp1_freq.index(w) +1)\n",
    "        tokens_df2_freq.append(corp2_freq.index(w) + 1)\n",
    "    except:\n",
    "        print(w)\n",
    "        continue\n",
    "tokens_df1_freq = np.array(tokens_df1_freq)\n",
    "tokens_df2_freq = np.array(tokens_df2_freq)\n",
    "\n",
    "alpha = 0.3\n",
    "unnormilized_divergance = np.abs(1 / (tokens_df1_freq ** alpha) - 1 / (tokens_df2_freq ** alpha)) ** (1 / (alpha+1))\n",
    "norm_tern_1 = (alpha+1) / alpha * np.sum( np.abs( 1/(tokens_df1_freq ** alpha) - 1/ ( ( tokens_df1_freq.shape[0] + 0.5 *  tokens_df2_freq.shape[0]) ** alpha)  ) **(1/(alpha+1)) )\n",
    "norm_tern_2 = (alpha+1) / alpha * np.sum( np.abs( 1/ ( ( tokens_df2_freq.shape[0] + 0.5 *  tokens_df1_freq.shape[0]) ** alpha) - 1/(tokens_df2_freq ** alpha) ) **(1/(alpha+1)) )\n",
    "norm = norm_tern_1 + norm_tern_2\n",
    "rde =  1 / norm * (alpha + 1) / alpha * unnormilized_divergance"
   ]
  },
  {
   "cell_type": "code",
   "execution_count": 39,
   "id": "b77e895a",
   "metadata": {},
   "outputs": [],
   "source": [
    "t = list(zip(common_words,rde))"
   ]
  },
  {
   "cell_type": "code",
   "execution_count": 40,
   "id": "46a68e40",
   "metadata": {},
   "outputs": [],
   "source": [
    "t.sort(key=lambda x: x[1], reverse=True)"
   ]
  },
  {
   "cell_type": "code",
   "execution_count": 41,
   "id": "1ea407af",
   "metadata": {},
   "outputs": [],
   "source": [
    "top_rtd = []\n",
    "for i, (w, d) in enumerate(t):\n",
    "    top_rtd.append((i, w, d*10000, corp1_freq.index(w), corp2_freq.index(w)))"
   ]
  },
  {
   "cell_type": "code",
   "execution_count": 42,
   "id": "bd581308",
   "metadata": {},
   "outputs": [
    {
     "data": {
      "text/html": [
       "<div>\n",
       "<style scoped>\n",
       "    .dataframe tbody tr th:only-of-type {\n",
       "        vertical-align: middle;\n",
       "    }\n",
       "\n",
       "    .dataframe tbody tr th {\n",
       "        vertical-align: top;\n",
       "    }\n",
       "\n",
       "    .dataframe thead th {\n",
       "        text-align: right;\n",
       "    }\n",
       "</style>\n",
       "<table border=\"1\" class=\"dataframe\">\n",
       "  <thead>\n",
       "    <tr style=\"text-align: right;\">\n",
       "      <th></th>\n",
       "      <th>index</th>\n",
       "      <th>word</th>\n",
       "      <th>rtd</th>\n",
       "      <th>rank in our corpus</th>\n",
       "      <th>rank in common one</th>\n",
       "    </tr>\n",
       "  </thead>\n",
       "  <tbody>\n",
       "    <tr>\n",
       "      <th>0</th>\n",
       "      <td>0</td>\n",
       "      <td>блять</td>\n",
       "      <td>3.070408</td>\n",
       "      <td>7</td>\n",
       "      <td>175</td>\n",
       "    </tr>\n",
       "    <tr>\n",
       "      <th>1</th>\n",
       "      <td>1</td>\n",
       "      <td>завтра</td>\n",
       "      <td>2.429647</td>\n",
       "      <td>70</td>\n",
       "      <td>8</td>\n",
       "    </tr>\n",
       "    <tr>\n",
       "      <th>2</th>\n",
       "      <td>2</td>\n",
       "      <td>блин</td>\n",
       "      <td>2.403365</td>\n",
       "      <td>82</td>\n",
       "      <td>9</td>\n",
       "    </tr>\n",
       "    <tr>\n",
       "      <th>3</th>\n",
       "      <td>3</td>\n",
       "      <td>нахуй</td>\n",
       "      <td>1.968482</td>\n",
       "      <td>44</td>\n",
       "      <td>745</td>\n",
       "    </tr>\n",
       "    <tr>\n",
       "      <th>4</th>\n",
       "      <td>4</td>\n",
       "      <td>болеть</td>\n",
       "      <td>1.941925</td>\n",
       "      <td>136</td>\n",
       "      <td>19</td>\n",
       "    </tr>\n",
       "    <tr>\n",
       "      <th>5</th>\n",
       "      <td>5</td>\n",
       "      <td>скучать</td>\n",
       "      <td>1.834642</td>\n",
       "      <td>517</td>\n",
       "      <td>44</td>\n",
       "    </tr>\n",
       "    <tr>\n",
       "      <th>6</th>\n",
       "      <td>6</td>\n",
       "      <td>сегодня</td>\n",
       "      <td>1.688969</td>\n",
       "      <td>15</td>\n",
       "      <td>5</td>\n",
       "    </tr>\n",
       "    <tr>\n",
       "      <th>7</th>\n",
       "      <td>7</td>\n",
       "      <td>человек</td>\n",
       "      <td>1.632923</td>\n",
       "      <td>4</td>\n",
       "      <td>11</td>\n",
       "    </tr>\n",
       "    <tr>\n",
       "      <th>8</th>\n",
       "      <td>8</td>\n",
       "      <td>жаль</td>\n",
       "      <td>1.553837</td>\n",
       "      <td>429</td>\n",
       "      <td>57</td>\n",
       "    </tr>\n",
       "    <tr>\n",
       "      <th>9</th>\n",
       "      <td>9</td>\n",
       "      <td>жалко</td>\n",
       "      <td>1.553346</td>\n",
       "      <td>1075</td>\n",
       "      <td>92</td>\n",
       "    </tr>\n",
       "    <tr>\n",
       "      <th>10</th>\n",
       "      <td>10</td>\n",
       "      <td>пробка</td>\n",
       "      <td>1.516263</td>\n",
       "      <td>3516</td>\n",
       "      <td>165</td>\n",
       "    </tr>\n",
       "    <tr>\n",
       "      <th>11</th>\n",
       "      <td>11</td>\n",
       "      <td>нга</td>\n",
       "      <td>1.463748</td>\n",
       "      <td>2243</td>\n",
       "      <td>149</td>\n",
       "    </tr>\n",
       "    <tr>\n",
       "      <th>12</th>\n",
       "      <td>12</td>\n",
       "      <td>тип</td>\n",
       "      <td>1.456632</td>\n",
       "      <td>75</td>\n",
       "      <td>558</td>\n",
       "    </tr>\n",
       "    <tr>\n",
       "      <th>13</th>\n",
       "      <td>13</td>\n",
       "      <td>школа</td>\n",
       "      <td>1.382742</td>\n",
       "      <td>123</td>\n",
       "      <td>32</td>\n",
       "    </tr>\n",
       "    <tr>\n",
       "      <th>14</th>\n",
       "      <td>14</td>\n",
       "      <td>свой</td>\n",
       "      <td>1.375239</td>\n",
       "      <td>6</td>\n",
       "      <td>14</td>\n",
       "    </tr>\n",
       "    <tr>\n",
       "      <th>15</th>\n",
       "      <td>15</td>\n",
       "      <td>жизнь</td>\n",
       "      <td>1.360200</td>\n",
       "      <td>16</td>\n",
       "      <td>46</td>\n",
       "    </tr>\n",
       "    <tr>\n",
       "      <th>16</th>\n",
       "      <td>16</td>\n",
       "      <td>серия</td>\n",
       "      <td>1.346863</td>\n",
       "      <td>556</td>\n",
       "      <td>87</td>\n",
       "    </tr>\n",
       "    <tr>\n",
       "      <th>17</th>\n",
       "      <td>17</td>\n",
       "      <td>буквально</td>\n",
       "      <td>1.338632</td>\n",
       "      <td>178</td>\n",
       "      <td>2093</td>\n",
       "    </tr>\n",
       "    <tr>\n",
       "      <th>18</th>\n",
       "      <td>18</td>\n",
       "      <td>печаль</td>\n",
       "      <td>1.338518</td>\n",
       "      <td>2509</td>\n",
       "      <td>194</td>\n",
       "    </tr>\n",
       "    <tr>\n",
       "      <th>19</th>\n",
       "      <td>19</td>\n",
       "      <td>нету</td>\n",
       "      <td>1.332191</td>\n",
       "      <td>2371</td>\n",
       "      <td>191</td>\n",
       "    </tr>\n",
       "    <tr>\n",
       "      <th>20</th>\n",
       "      <td>20</td>\n",
       "      <td>чело</td>\n",
       "      <td>1.309370</td>\n",
       "      <td>219</td>\n",
       "      <td>2915</td>\n",
       "    </tr>\n",
       "    <tr>\n",
       "      <th>21</th>\n",
       "      <td>21</td>\n",
       "      <td>пятница</td>\n",
       "      <td>1.305546</td>\n",
       "      <td>1683</td>\n",
       "      <td>169</td>\n",
       "    </tr>\n",
       "    <tr>\n",
       "      <th>22</th>\n",
       "      <td>22</td>\n",
       "      <td>ебать</td>\n",
       "      <td>1.291404</td>\n",
       "      <td>111</td>\n",
       "      <td>740</td>\n",
       "    </tr>\n",
       "    <tr>\n",
       "      <th>23</th>\n",
       "      <td>23</td>\n",
       "      <td>пиздец</td>\n",
       "      <td>1.254448</td>\n",
       "      <td>41</td>\n",
       "      <td>144</td>\n",
       "    </tr>\n",
       "    <tr>\n",
       "      <th>24</th>\n",
       "      <td>24</td>\n",
       "      <td>суицид</td>\n",
       "      <td>1.251038</td>\n",
       "      <td>615</td>\n",
       "      <td>31353</td>\n",
       "    </tr>\n",
       "    <tr>\n",
       "      <th>25</th>\n",
       "      <td>25</td>\n",
       "      <td>обидно</td>\n",
       "      <td>1.241488</td>\n",
       "      <td>868</td>\n",
       "      <td>131</td>\n",
       "    </tr>\n",
       "    <tr>\n",
       "      <th>26</th>\n",
       "      <td>26</td>\n",
       "      <td>день</td>\n",
       "      <td>1.240971</td>\n",
       "      <td>8</td>\n",
       "      <td>4</td>\n",
       "    </tr>\n",
       "    <tr>\n",
       "      <th>27</th>\n",
       "      <td>27</td>\n",
       "      <td>зачет</td>\n",
       "      <td>1.239418</td>\n",
       "      <td>5573</td>\n",
       "      <td>334</td>\n",
       "    </tr>\n",
       "    <tr>\n",
       "      <th>28</th>\n",
       "      <td>28</td>\n",
       "      <td>заболевать</td>\n",
       "      <td>1.239347</td>\n",
       "      <td>763</td>\n",
       "      <td>122</td>\n",
       "    </tr>\n",
       "    <tr>\n",
       "      <th>29</th>\n",
       "      <td>29</td>\n",
       "      <td>киев</td>\n",
       "      <td>1.227967</td>\n",
       "      <td>12436</td>\n",
       "      <td>473</td>\n",
       "    </tr>\n",
       "    <tr>\n",
       "      <th>30</th>\n",
       "      <td>30</td>\n",
       "      <td>аниме</td>\n",
       "      <td>1.226571</td>\n",
       "      <td>249</td>\n",
       "      <td>2786</td>\n",
       "    </tr>\n",
       "    <tr>\n",
       "      <th>31</th>\n",
       "      <td>31</td>\n",
       "      <td>приходиться</td>\n",
       "      <td>1.218719</td>\n",
       "      <td>387</td>\n",
       "      <td>83</td>\n",
       "    </tr>\n",
       "    <tr>\n",
       "      <th>32</th>\n",
       "      <td>32</td>\n",
       "      <td>комп</td>\n",
       "      <td>1.217744</td>\n",
       "      <td>1995</td>\n",
       "      <td>214</td>\n",
       "    </tr>\n",
       "    <tr>\n",
       "      <th>33</th>\n",
       "      <td>33</td>\n",
       "      <td>просто</td>\n",
       "      <td>1.215812</td>\n",
       "      <td>5</td>\n",
       "      <td>10</td>\n",
       "    </tr>\n",
       "    <tr>\n",
       "      <th>34</th>\n",
       "      <td>34</td>\n",
       "      <td>дома</td>\n",
       "      <td>1.209240</td>\n",
       "      <td>232</td>\n",
       "      <td>60</td>\n",
       "    </tr>\n",
       "    <tr>\n",
       "      <th>35</th>\n",
       "      <td>35</td>\n",
       "      <td>винд</td>\n",
       "      <td>1.208329</td>\n",
       "      <td>25752</td>\n",
       "      <td>640</td>\n",
       "    </tr>\n",
       "    <tr>\n",
       "      <th>36</th>\n",
       "      <td>36</td>\n",
       "      <td>друг</td>\n",
       "      <td>1.208064</td>\n",
       "      <td>27</td>\n",
       "      <td>76</td>\n",
       "    </tr>\n",
       "    <tr>\n",
       "      <th>37</th>\n",
       "      <td>37</td>\n",
       "      <td>похуй</td>\n",
       "      <td>1.207370</td>\n",
       "      <td>183</td>\n",
       "      <td>1435</td>\n",
       "    </tr>\n",
       "    <tr>\n",
       "      <th>38</th>\n",
       "      <td>38</td>\n",
       "      <td>печально</td>\n",
       "      <td>1.194555</td>\n",
       "      <td>5553</td>\n",
       "      <td>365</td>\n",
       "    </tr>\n",
       "    <tr>\n",
       "      <th>39</th>\n",
       "      <td>39</td>\n",
       "      <td>заканчиваться</td>\n",
       "      <td>1.194266</td>\n",
       "      <td>328</td>\n",
       "      <td>77</td>\n",
       "    </tr>\n",
       "    <tr>\n",
       "      <th>40</th>\n",
       "      <td>40</td>\n",
       "      <td>снег</td>\n",
       "      <td>1.186834</td>\n",
       "      <td>971</td>\n",
       "      <td>152</td>\n",
       "    </tr>\n",
       "    <tr>\n",
       "      <th>41</th>\n",
       "      <td>41</td>\n",
       "      <td>ппц</td>\n",
       "      <td>1.181707</td>\n",
       "      <td>9842</td>\n",
       "      <td>478</td>\n",
       "    </tr>\n",
       "    <tr>\n",
       "      <th>42</th>\n",
       "      <td>42</td>\n",
       "      <td>выздоравливать</td>\n",
       "      <td>1.171114</td>\n",
       "      <td>8477</td>\n",
       "      <td>460</td>\n",
       "    </tr>\n",
       "    <tr>\n",
       "      <th>43</th>\n",
       "      <td>43</td>\n",
       "      <td>блиин</td>\n",
       "      <td>1.169536</td>\n",
       "      <td>22574</td>\n",
       "      <td>672</td>\n",
       "    </tr>\n",
       "    <tr>\n",
       "      <th>44</th>\n",
       "      <td>44</td>\n",
       "      <td>выходной</td>\n",
       "      <td>1.163206</td>\n",
       "      <td>505</td>\n",
       "      <td>106</td>\n",
       "    </tr>\n",
       "    <tr>\n",
       "      <th>45</th>\n",
       "      <td>45</td>\n",
       "      <td>обновлять</td>\n",
       "      <td>1.153429</td>\n",
       "      <td>4337</td>\n",
       "      <td>354</td>\n",
       "    </tr>\n",
       "    <tr>\n",
       "      <th>46</th>\n",
       "      <td>46</td>\n",
       "      <td>скоро</td>\n",
       "      <td>1.138708</td>\n",
       "      <td>125</td>\n",
       "      <td>42</td>\n",
       "    </tr>\n",
       "    <tr>\n",
       "      <th>47</th>\n",
       "      <td>47</td>\n",
       "      <td>ау</td>\n",
       "      <td>1.138553</td>\n",
       "      <td>820</td>\n",
       "      <td>32308</td>\n",
       "    </tr>\n",
       "    <tr>\n",
       "      <th>48</th>\n",
       "      <td>48</td>\n",
       "      <td>личность</td>\n",
       "      <td>1.138435</td>\n",
       "      <td>457</td>\n",
       "      <td>7089</td>\n",
       "    </tr>\n",
       "    <tr>\n",
       "      <th>49</th>\n",
       "      <td>49</td>\n",
       "      <td>порез</td>\n",
       "      <td>1.121969</td>\n",
       "      <td>800</td>\n",
       "      <td>26578</td>\n",
       "    </tr>\n",
       "  </tbody>\n",
       "</table>\n",
       "</div>"
      ],
      "text/plain": [
       "    index            word       rtd  rank in our corpus  rank in common one\n",
       "0       0           блять  3.070408                   7                 175\n",
       "1       1          завтра  2.429647                  70                   8\n",
       "2       2            блин  2.403365                  82                   9\n",
       "3       3           нахуй  1.968482                  44                 745\n",
       "4       4          болеть  1.941925                 136                  19\n",
       "5       5         скучать  1.834642                 517                  44\n",
       "6       6         сегодня  1.688969                  15                   5\n",
       "7       7         человек  1.632923                   4                  11\n",
       "8       8            жаль  1.553837                 429                  57\n",
       "9       9           жалко  1.553346                1075                  92\n",
       "10     10          пробка  1.516263                3516                 165\n",
       "11     11             нга  1.463748                2243                 149\n",
       "12     12             тип  1.456632                  75                 558\n",
       "13     13           школа  1.382742                 123                  32\n",
       "14     14            свой  1.375239                   6                  14\n",
       "15     15           жизнь  1.360200                  16                  46\n",
       "16     16           серия  1.346863                 556                  87\n",
       "17     17       буквально  1.338632                 178                2093\n",
       "18     18          печаль  1.338518                2509                 194\n",
       "19     19            нету  1.332191                2371                 191\n",
       "20     20            чело  1.309370                 219                2915\n",
       "21     21         пятница  1.305546                1683                 169\n",
       "22     22           ебать  1.291404                 111                 740\n",
       "23     23          пиздец  1.254448                  41                 144\n",
       "24     24          суицид  1.251038                 615               31353\n",
       "25     25          обидно  1.241488                 868                 131\n",
       "26     26            день  1.240971                   8                   4\n",
       "27     27           зачет  1.239418                5573                 334\n",
       "28     28      заболевать  1.239347                 763                 122\n",
       "29     29            киев  1.227967               12436                 473\n",
       "30     30           аниме  1.226571                 249                2786\n",
       "31     31     приходиться  1.218719                 387                  83\n",
       "32     32            комп  1.217744                1995                 214\n",
       "33     33          просто  1.215812                   5                  10\n",
       "34     34            дома  1.209240                 232                  60\n",
       "35     35            винд  1.208329               25752                 640\n",
       "36     36            друг  1.208064                  27                  76\n",
       "37     37           похуй  1.207370                 183                1435\n",
       "38     38        печально  1.194555                5553                 365\n",
       "39     39   заканчиваться  1.194266                 328                  77\n",
       "40     40            снег  1.186834                 971                 152\n",
       "41     41             ппц  1.181707                9842                 478\n",
       "42     42  выздоравливать  1.171114                8477                 460\n",
       "43     43           блиин  1.169536               22574                 672\n",
       "44     44        выходной  1.163206                 505                 106\n",
       "45     45       обновлять  1.153429                4337                 354\n",
       "46     46           скоро  1.138708                 125                  42\n",
       "47     47              ау  1.138553                 820               32308\n",
       "48     48        личность  1.138435                 457                7089\n",
       "49     49           порез  1.121969                 800               26578"
      ]
     },
     "execution_count": 42,
     "metadata": {},
     "output_type": "execute_result"
    }
   ],
   "source": [
    "pd.DataFrame(top_rtd, columns=[\"index\", \"word\", \"rtd\", \"rank in our corpus\", \"rank in common one\"]).head(50)"
   ]
  }
 ],
 "metadata": {
  "kernelspec": {
   "display_name": "Python 3 (ipykernel)",
   "language": "python",
   "name": "python3"
  },
  "language_info": {
   "codemirror_mode": {
    "name": "ipython",
    "version": 3
   },
   "file_extension": ".py",
   "mimetype": "text/x-python",
   "name": "python",
   "nbconvert_exporter": "python",
   "pygments_lexer": "ipython3",
   "version": "3.9.7"
  }
 },
 "nbformat": 4,
 "nbformat_minor": 5
}
