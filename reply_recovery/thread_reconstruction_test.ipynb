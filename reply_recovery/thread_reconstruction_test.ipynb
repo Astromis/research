{
 "cells": [
  {
   "attachments": {},
   "cell_type": "markdown",
   "id": "0a9c4b0b",
   "metadata": {},
   "source": [
    "This notebook is for the testing of the thread reconstruction hypothesys."
   ]
  },
  {
   "cell_type": "code",
   "execution_count": null,
   "id": "8dec5716",
   "metadata": {},
   "outputs": [],
   "source": [
    "import json\n",
    "from sklearn.metrics import f1_score\n",
    "from transformers import AutoTokenizer\n",
    "from transformers import BertForNextSentencePrediction\n",
    "from transformers import Trainer\n",
    "from sklearn.metrics import classification_report\n",
    "from sklearn.metrics import precision_score, recall_score, f1_score\n",
    "import pandas as pd\n",
    "from src.thread_reconstruction import get_dummy, get_edge_matrix_from_annot, greedify_binary, g_binary, g_probas, estimate_replies, binarize, greedify_probas"
   ]
  },
  {
   "cell_type": "code",
   "execution_count": null,
   "id": "53fd758c",
   "metadata": {},
   "outputs": [],
   "source": []
  },
  {
   "cell_type": "code",
   "execution_count": null,
   "id": "50513ba6",
   "metadata": {},
   "outputs": [],
   "source": [
    "with open(\"project-1-at-2023-03-08-06-54-9ca75886.json\") as f:\n",
    "    annot1 = json.load(f)\n",
    "    \n",
    "with open(\"project-1-at-2023-03-14-18-09-51c2cb5b.json\") as f:\n",
    "    annot2 = json.load(f)\n",
    "\n",
    "annot = annot1 + annot2"
   ]
  },
  {
   "cell_type": "code",
   "execution_count": null,
   "id": "27cc6698",
   "metadata": {},
   "outputs": [],
   "source": [
    "model = BertForNextSentencePrediction.from_pretrained('models/trained_models/results_fine_tuned_ru_conversational_bert/checkpoint-150000/')\n",
    "tokenizer = AutoTokenizer.from_pretrained(\"models/ru_conversational_cased_L-12_H-768_A-12_pt_v1\")\n",
    "trainer = Trainer(model=model)"
   ]
  },
  {
   "cell_type": "code",
   "execution_count": null,
   "id": "2a5ff646",
   "metadata": {},
   "outputs": [],
   "source": [
    "models = [\n",
    "    (\"dummy\", get_dummy),\n",
    "    (\"greedify_binary\", g_binary),\n",
    "    (\"greedigy_probas\", g_probas)\n",
    "]"
   ]
  },
  {
   "cell_type": "code",
   "execution_count": null,
   "id": "0dcc4a7d",
   "metadata": {},
   "outputs": [],
   "source": [
    "report = {\n",
    "    \"model_name\": [],\n",
    "    \"precision\": [],\n",
    "    \"recall\": [],\n",
    "    \"f1\":[]\n",
    "         }\n",
    "for a in annot:\n",
    "    for offset in [3,7,15]:\n",
    "        dialog = a['annotations'][0][\"result\"]\n",
    "        gold_matrix = get_edge_matrix_from_annot(dialog, 100)\n",
    "        dial = [x[\"text\"].split(\"|\")[-1].strip() for x in a['data'][\"dialogue\"]]\n",
    "        estimanted_matrix_proba = estimate_replies(dial, offset , trainer)\n",
    "        for name, model in models:\n",
    "            if \"dummy\" != name:\n",
    "                name = f\"{name}_{offset}\"\n",
    "            report[\"model_name\"].append(name)\n",
    "            report[\"precision\"].append(precision_score(gold_matrix.flatten(), model(estimanted_matrix_proba).flatten(),average=\"macro\"))\n",
    "            report[\"recall\"].append(recall_score(gold_matrix.flatten(), model(estimanted_matrix_proba).flatten(),average=\"macro\"))\n",
    "            report[\"f1\"].append(f1_score(gold_matrix.flatten(), model(estimanted_matrix_proba).flatten(), average=\"macro\"))"
   ]
  },
  {
   "cell_type": "code",
   "execution_count": null,
   "id": "932974a7",
   "metadata": {},
   "outputs": [],
   "source": []
  },
  {
   "cell_type": "code",
   "execution_count": null,
   "id": "516bb5d1",
   "metadata": {},
   "outputs": [],
   "source": [
    "#dialog_text = [x[\"text\"].split(\"|\")[-1].strip() for x in a['data'][\"dialogue\"]]\n",
    "#dialog_text = np.array(dialog_text)\n",
    "#print(dialog_text[[66, 76]])"
   ]
  },
  {
   "cell_type": "code",
   "execution_count": null,
   "id": "200ae019",
   "metadata": {},
   "outputs": [],
   "source": []
  },
  {
   "cell_type": "code",
   "execution_count": null,
   "id": "428d404f",
   "metadata": {},
   "outputs": [],
   "source": [
    "df = pd.DataFrame(report)\n",
    "print(df.groupby(\"model_name\").agg(\"mean\").to_latex())"
   ]
  },
  {
   "cell_type": "code",
   "execution_count": null,
   "id": "1f4f4bff",
   "metadata": {},
   "outputs": [],
   "source": []
  },
  {
   "cell_type": "code",
   "execution_count": null,
   "id": "66e112a9",
   "metadata": {},
   "outputs": [],
   "source": [
    "print(classification_report(gold_matrix.flatten(),\n",
    "                            greedify_probas(estimanted_matrix_proba).flatten()))"
   ]
  },
  {
   "cell_type": "code",
   "execution_count": null,
   "id": "7db896c7",
   "metadata": {},
   "outputs": [],
   "source": [
    "print(classification_report(gold_matrix.flatten(),\n",
    "                            greedify_binary(binarize(estimanted_matrix_proba)).flatten()))"
   ]
  },
  {
   "cell_type": "code",
   "execution_count": null,
   "id": "4ed087a7",
   "metadata": {},
   "outputs": [],
   "source": [
    "print(classification_report(gold_matrix.flatten(),\n",
    "                            binarize(estimanted_matrix_proba).flatten()))"
   ]
  },
  {
   "cell_type": "code",
   "execution_count": null,
   "id": "301eebe0",
   "metadata": {},
   "outputs": [],
   "source": []
  }
 ],
 "metadata": {
  "kernelspec": {
   "display_name": "Python 3 (ipykernel)",
   "language": "python",
   "name": "python3"
  },
  "language_info": {
   "codemirror_mode": {
    "name": "ipython",
    "version": 3
   },
   "file_extension": ".py",
   "mimetype": "text/x-python",
   "name": "python",
   "nbconvert_exporter": "python",
   "pygments_lexer": "ipython3",
   "version": "3.8.12"
  }
 },
 "nbformat": 4,
 "nbformat_minor": 5
}
