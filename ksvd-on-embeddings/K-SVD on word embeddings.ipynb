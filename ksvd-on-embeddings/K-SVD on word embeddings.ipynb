{
 "cells": [
  {
   "cell_type": "markdown",
   "metadata": {},
   "source": [
    "Today I want to show you extremally cool thing that discovered by Arory et al in a paper [Linear Algebraic Structure of Word Senses, with Applications to Polysemy](https://arxiv.org/abs/1601.03764). This paper is a part of series of this author in which he tries to explain theoretically the properties of word embeddings. In this work he assumes that simple word embeddings obtained by word2vec or glove algorithms, for example, includes several senses of word and shows how to pick out them with sparse coding technique. Super cool staf.\n",
    "\n",
    "More formaly, let's $\\nu_{tie}$ be the word embedings of word *tie*. We assume that each word embedding is a linear combination of senses \n",
    "$$\\nu_{tie} \\approx \\alpha_1 \\nu_{tie1} + \\alpha_2 \\nu_{tie2} + \\alpha_1 \\nu_{tie3}+...$$\n",
    "where $\\nu_n$ is some sense of word and $\\alpha$ is coefficient. \n",
    "\n",
    "In this notebook the magic of k-svd algorithm is shown. Here will show how to apply k-svd algorithm to obtain different senses of word through its embeddings."
   ]
  },
  {
   "cell_type": "code",
   "execution_count": 22,
   "metadata": {},
   "outputs": [],
   "source": [
    "import numpy as np\n",
    "\n",
    "from gensim.test.utils import datapath, get_tmpfile\n",
    "from gensim.models import KeyedVectors\n",
    "from gensim.scripts.glove2word2vec import glove2word2vec\n",
    "from scipy.spatial.distance import cosine\n"
   ]
  },
  {
   "cell_type": "markdown",
   "metadata": {},
   "source": [
    "**1. Load the word embeddings through gensim interface**"
   ]
  },
  {
   "cell_type": "markdown",
   "metadata": {},
   "source": [
    "Here we load and transform the GloVe vectors in order to have the way of manipulating them. Due to large size, embeddings is not conteined in path below. You can donwnload it [here](https://nlp.stanford.edu/projects/glove/) and specify the path if you need. Remember that I and author used 300d vectors."
   ]
  },
  {
   "cell_type": "code",
   "execution_count": 2,
   "metadata": {},
   "outputs": [],
   "source": [
    "tmp_file = get_tmpfile(\"test_word2vec.txt\")\n",
    "_ = glove2word2vec(\"./embeddings/glove.6B.300d.txt\", tmp_file)\n",
    "model = KeyedVectors.load_word2vec_format(tmp_file)"
   ]
  },
  {
   "cell_type": "code",
   "execution_count": 3,
   "metadata": {},
   "outputs": [
    {
     "name": "stderr",
     "output_type": "stream",
     "text": [
      "/home/astromis/anaconda3/lib/python3.6/site-packages/ipykernel_launcher.py:1: DeprecationWarning: Call to deprecated `wv` (Attribute will be removed in 4.0.0, use self instead).\n",
      "  \"\"\"Entry point for launching an IPython kernel.\n"
     ]
    }
   ],
   "source": [
    "embeddings = model.wv\n",
    "\n",
    "index2word = embeddings.index2word\n",
    "embedds = embeddings.vectors"
   ]
  },
  {
   "cell_type": "code",
   "execution_count": 5,
   "metadata": {},
   "outputs": [
    {
     "name": "stdout",
     "output_type": "stream",
     "text": [
      "(400000, 300)\n"
     ]
    }
   ],
   "source": [
    "print(embedds.shape)"
   ]
  },
  {
   "cell_type": "markdown",
   "metadata": {},
   "source": [
    "So we have 400000 unique words with vector of 300 dim vectors."
   ]
  },
  {
   "cell_type": "markdown",
   "metadata": {},
   "source": [
    "**2. Installing and appluing ksvd to embedding matrix**"
   ]
  },
  {
   "cell_type": "markdown",
   "metadata": {},
   "source": [
    "Now we need to obtain the atoms of discourse through sparse recovry. To do that will use ksvd packet."
   ]
  },
  {
   "cell_type": "code",
   "execution_count": 13,
   "metadata": {},
   "outputs": [
    {
     "name": "stdout",
     "output_type": "stream",
     "text": [
      "Requirement already satisfied: ksvd in /home/astromis/anaconda3/lib/python3.6/site-packages (0.0.3)\r\n",
      "Requirement already satisfied: scikit-learn in /home/astromis/anaconda3/lib/python3.6/site-packages (from ksvd) (0.19.1)\r\n",
      "Requirement already satisfied: numpy in /home/astromis/anaconda3/lib/python3.6/site-packages (from ksvd) (1.14.5)\r\n"
     ]
    }
   ],
   "source": [
    "!pip install ksvd\n",
    "from ksvd import ApproximateKSVD"
   ]
  },
  {
   "cell_type": "markdown",
   "metadata": {},
   "source": [
    "From the paper it is knonw, that number of atoms is 2000 and sparsity parametr k is 5. I trained two versions: first one is for 10000 embeddings and second one for the whole embeddings. Because this proccess takes quite much time, especially for the whole embedding matrix, I saved the matrices and you can just load them."
   ]
  },
  {
   "cell_type": "code",
   "execution_count": 5,
   "metadata": {},
   "outputs": [
    {
     "name": "stdout",
     "output_type": "stream",
     "text": [
      "CPU times: user 4 µs, sys: 0 ns, total: 4 µs\n",
      "Wall time: 9.54 µs\n"
     ]
    }
   ],
   "source": [
    "%time\n",
    "aksvd = ApproximateKSVD(n_components=2000,transform_n_nonzero_coefs=5, )\n",
    "embedding_trans = embeddings.vectors\n",
    "dictionary = aksvd.fit(embedding_trans).components_\n",
    "gamma = aksvd.transform(embedding_trans)"
   ]
  },
  {
   "cell_type": "code",
   "execution_count": 26,
   "metadata": {},
   "outputs": [],
   "source": [
    "#gamma = np.load('./data/mats/.npz')\n",
    "# dictionary_glove6b_300d.np.npz - whole matrix file\n",
    "dictionary = np.load('./data/mats/dictionary_glove6b_300d_10000.np.npz')\n",
    "dictionary = dictionary[dictionary.keys()[0]]"
   ]
  },
  {
   "cell_type": "code",
   "execution_count": 7,
   "metadata": {},
   "outputs": [
    {
     "name": "stdout",
     "output_type": "stream",
     "text": [
      "(10000, 2000)\n",
      "(2000, 300)\n"
     ]
    }
   ],
   "source": [
    "#print(gamma.shape)\n",
    "print(dictionary.shape)"
   ]
  },
  {
   "cell_type": "code",
   "execution_count": 6,
   "metadata": {},
   "outputs": [],
   "source": [
    "#np.savez_compressed('gamma_glove6b_300d.npz', gamma)\n",
    "#np.savez_compressed('dictionary_glove6b_300d.npz', dictionary)"
   ]
  },
  {
   "cell_type": "markdown",
   "metadata": {},
   "source": [
    "**3.Determining reletionships between atoms/dictionaries and source matrix**"
   ]
  },
  {
   "cell_type": "markdown",
   "metadata": {},
   "source": [
    "Let's play with dictionary, that we've gotten, finding the nearest words for several random choised atoms from the dictionary."
   ]
  },
  {
   "cell_type": "code",
   "execution_count": 33,
   "metadata": {},
   "outputs": [
    {
     "name": "stderr",
     "output_type": "stream",
     "text": [
      "/home/astromis/anaconda3/lib/python3.6/site-packages/gensim/matutils.py:737: FutureWarning: Conversion of the second argument of issubdtype from `int` to `np.signedinteger` is deprecated. In future, it will be treated as `np.int64 == np.dtype(int).type`.\n",
      "  if np.issubdtype(vec.dtype, np.int):\n"
     ]
    },
    {
     "data": {
      "text/plain": [
       "[('вслепую', 0.19667410850524902),\n",
       " ('успевать', 0.19195224344730377),\n",
       " ('незамедлительно', 0.18898837268352509),\n",
       " ('киссинген', 0.18743178248405457),\n",
       " ('дознано', 0.18590040504932404),\n",
       " ('хотек', 0.17938834428787231),\n",
       " ('безотлагательно', 0.17875441908836365),\n",
       " ('всепокорно', 0.17833231389522552),\n",
       " ('неослабно', 0.17833179235458374),\n",
       " ('молниеносно', 0.1781741827726364)]"
      ]
     },
     "execution_count": 33,
     "metadata": {},
     "output_type": "execute_result"
    }
   ],
   "source": [
    "embeddings.similar_by_vector(dictionary[1354,:])"
   ]
  },
  {
   "cell_type": "code",
   "execution_count": 15,
   "metadata": {},
   "outputs": [
    {
     "name": "stderr",
     "output_type": "stream",
     "text": [
      "/home/astromis/anaconda3/lib/python3.6/site-packages/gensim/matutils.py:737: FutureWarning: Conversion of the second argument of issubdtype from `int` to `np.signedinteger` is deprecated. In future, it will be treated as `np.int64 == np.dtype(int).type`.\n",
      "  if np.issubdtype(vec.dtype, np.int):\n"
     ]
    },
    {
     "data": {
      "text/plain": [
       "[('applemans', 0.48566657304763794),\n",
       " ('psystar', 0.48538529872894287),\n",
       " ('aluminio', 0.46252337098121643),\n",
       " ('autlan', 0.4580308794975281),\n",
       " ('tongli', 0.45648980140686035),\n",
       " ('neuromarketing', 0.4531436562538147),\n",
       " ('thongrung', 0.4484277665615082),\n",
       " ('keitt', 0.44737738370895386),\n",
       " ('tom.fowler@chron.com', 0.441282719373703),\n",
       " ('sintered', 0.4411150813102722)]"
      ]
     },
     "execution_count": 15,
     "metadata": {},
     "output_type": "execute_result"
    }
   ],
   "source": [
    "embeddings.similar_by_vector(dictionary[1350,:])"
   ]
  },
  {
   "cell_type": "code",
   "execution_count": 14,
   "metadata": {},
   "outputs": [
    {
     "name": "stderr",
     "output_type": "stream",
     "text": [
      "/home/astromis/anaconda3/lib/python3.6/site-packages/gensim/matutils.py:737: FutureWarning: Conversion of the second argument of issubdtype from `int` to `np.signedinteger` is deprecated. In future, it will be treated as `np.int64 == np.dtype(int).type`.\n",
      "  if np.issubdtype(vec.dtype, np.int):\n"
     ]
    },
    {
     "data": {
      "text/plain": [
       "[('lodovico', 0.5247857570648193),\n",
       " ('tasso', 0.5008430480957031),\n",
       " ('ariosto', 0.49769654870033264),\n",
       " ('frigerio', 0.4863497316837311),\n",
       " ('khayyám', 0.4795286953449249),\n",
       " ('pleasance', 0.47886714339256287),\n",
       " ('torquato', 0.4760018289089203),\n",
       " ('aliki', 0.4667115807533264),\n",
       " ('maini', 0.4652693271636963),\n",
       " ('blagojević', 0.46242815256118774)]"
      ]
     },
     "execution_count": 14,
     "metadata": {},
     "output_type": "execute_result"
    }
   ],
   "source": [
    "embeddings.similar_by_vector(dictionary[1546,:])"
   ]
  },
  {
   "cell_type": "code",
   "execution_count": 13,
   "metadata": {},
   "outputs": [
    {
     "name": "stderr",
     "output_type": "stream",
     "text": [
      "/home/astromis/anaconda3/lib/python3.6/site-packages/gensim/matutils.py:737: FutureWarning: Conversion of the second argument of issubdtype from `int` to `np.signedinteger` is deprecated. In future, it will be treated as `np.int64 == np.dtype(int).type`.\n",
      "  if np.issubdtype(vec.dtype, np.int):\n"
     ]
    },
    {
     "data": {
      "text/plain": [
       "[('porcelain', 0.6797035336494446),\n",
       " ('handcrafted', 0.6475120186805725),\n",
       " ('inlaid', 0.6458134055137634),\n",
       " ('tapestries', 0.6427910923957825),\n",
       " ('ceramics', 0.6425598859786987),\n",
       " ('metalwork', 0.6384821534156799),\n",
       " ('rugs', 0.6371402144432068),\n",
       " ('carpets', 0.6327065825462341),\n",
       " ('embroidery', 0.629633903503418),\n",
       " ('handicrafts', 0.6282943487167358)]"
      ]
     },
     "execution_count": 13,
     "metadata": {},
     "output_type": "execute_result"
    }
   ],
   "source": [
    "embeddings.similar_by_vector(dictionary[1850,:])"
   ]
  },
  {
   "cell_type": "markdown",
   "metadata": {},
   "source": [
    "Impressive result! The atoms is really the centroids of similar words. Now, let's take a couple of multi-meaning words and find the nearest atoms for them. They should represents different meaning. I'm going to take 'tie' and 'spring' from the paper."
   ]
  },
  {
   "cell_type": "code",
   "execution_count": 16,
   "metadata": {},
   "outputs": [],
   "source": [
    "itie = index2word.index('tie')\n",
    "ispring = index2word.index('spring')\n",
    "\n",
    "tie_emb = embedds[itie]\n",
    "string_emb = embedds[ispring]"
   ]
  },
  {
   "cell_type": "code",
   "execution_count": 20,
   "metadata": {},
   "outputs": [
    {
     "name": "stderr",
     "output_type": "stream",
     "text": [
      "/home/astromis/anaconda3/lib/python3.6/site-packages/gensim/matutils.py:737: FutureWarning: Conversion of the second argument of issubdtype from `int` to `np.signedinteger` is deprecated. In future, it will be treated as `np.int64 == np.dtype(int).type`.\n",
      "  if np.issubdtype(vec.dtype, np.int):\n"
     ]
    },
    {
     "name": "stdout",
     "output_type": "stream",
     "text": [
      "Atom #718: semifinal quarterfinal finals play-off semi-final playoff semifinals semi-finals matches qualifying\n",
      "Atom #860: win winning second third last fourth champion first fifth ,\n",
      "Atom #1609: everton tottenham middlesbrough 1-0 chelsea fulham liverpool 2-0 2-1 sunderland\n",
      "Atom #928: assists scored goals scoring rebounds points goal steals turnovers touchdowns\n",
      "Atom #282: . , same but the though well one when which\n",
      "Atom #1705: quarterback nfl broncos patriots cowboys touchdowns seahawks 49ers raiders redskins\n",
      "Atom #1829: want 'll let you n't go tell come able ca\n",
      "Atom #16: trousers tunic blouse dresses pants skirts sleeveless satin sweater blouses\n",
      "Atom #711: something indeed really quite kind seems thing always certainly very\n",
      "Atom #266: saying officials tuesday but thursday wednesday monday week earlier however\n",
      "Atom #449: . which , already country although year while more countries\n",
      "Atom #912: june april july october september january november march february december\n",
      "Atom #723: 2-7 3-7 1-5 3-8 2-4 2-5 0-4 0-3 0-5 2-9\n",
      "Atom #323: karpov topalov kasparov kramnik kamsky anand chess ivanchuk grischuk shirov\n",
      "Atom #1004: analysts earnings expectations expected investors market expect recent economy outlook\n"
     ]
    }
   ],
   "source": [
    "simlist = []\n",
    "\n",
    "for i, vector in enumerate(dictionary):\n",
    "    simlist.append( (cosine(vector, tie_emb), i) )\n",
    "    \n",
    "simlist = sorted(simlist, key=lambda x: x[0])\n",
    "six_atoms_ind = [ins[1] for ins in simlist[:15]]\n",
    "\n",
    "for atoms_idx in six_atoms_ind:\n",
    "    nearest_words = embeddings.similar_by_vector(dictionary[atoms_idx,:])\n",
    "    nearest_words = [word[0] for word in nearest_words]\n",
    "    print(\"Atom #{}: {}\".format(atoms_idx, ' '.join(nearest_words)))"
   ]
  },
  {
   "cell_type": "code",
   "execution_count": 74,
   "metadata": {},
   "outputs": [
    {
     "name": "stderr",
     "output_type": "stream",
     "text": [
      "/home/astromis/anaconda3/lib/python3.6/site-packages/gensim/matutils.py:737: FutureWarning: Conversion of the second argument of issubdtype from `int` to `np.signedinteger` is deprecated. In future, it will be treated as `np.int64 == np.dtype(int).type`.\n",
      "  if np.issubdtype(vec.dtype, np.int):\n"
     ]
    },
    {
     "name": "stdout",
     "output_type": "stream",
     "text": [
      "Atom #528: autumn spring summer winter season rainy seasons fall seasonal during\n",
      "Atom #1070: start begin beginning starting starts begins next coming day started\n",
      "Atom #931: holiday christmas holidays easter thanksgiving eve celebrate celebrations weekend festivities\n",
      "Atom #1455: after later before when then came last took again but\n",
      "Atom #754: but so not because even only that it this they\n",
      "Atom #688: yankees yankee mets sox baseball braves steinbrenner dodgers orioles torre\n"
     ]
    }
   ],
   "source": [
    "simlist = []\n",
    "\n",
    "for i, vector in enumerate(dictionary):\n",
    "    simlist.append( (cosine(vector, string_emb), i) )\n",
    "    \n",
    "simlist = sorted(simlist, key=lambda x: x[0])\n",
    "six_atoms_ind = [ins[1] for ins in simlist[:6]]\n",
    "\n",
    "for atoms_idx in six_atoms_ind:\n",
    "    nearest_words = embeddings.similar_by_vector(dictionary[atoms_idx,:])\n",
    "    nearest_words = [word[0] for word in nearest_words]\n",
    "    print(\"Atom #{}: {}\".format(atoms_idx, ' '.join(nearest_words)))"
   ]
  },
  {
   "cell_type": "code",
   "execution_count": 21,
   "metadata": {},
   "outputs": [
    {
     "name": "stderr",
     "output_type": "stream",
     "text": [
      "/home/astromis/anaconda3/lib/python3.6/site-packages/gensim/matutils.py:737: FutureWarning: Conversion of the second argument of issubdtype from `int` to `np.signedinteger` is deprecated. In future, it will be treated as `np.int64 == np.dtype(int).type`.\n",
      "  if np.issubdtype(vec.dtype, np.int):\n"
     ]
    },
    {
     "name": "stdout",
     "output_type": "stream",
     "text": [
      "Atom #912: june april july october september january november march february december\n",
      "Atom #282: . , same but the though well one when which\n",
      "Atom #1829: want 'll let you n't go tell come able ca\n",
      "Atom #449: . which , already country although year while more countries\n",
      "Atom #860: win winning second third last fourth champion first fifth ,\n",
      "Atom #266: saying officials tuesday but thursday wednesday monday week earlier however\n",
      "Atom #1004: analysts earnings expectations expected investors market expect recent economy outlook\n",
      "Atom #711: something indeed really quite kind seems thing always certainly very\n",
      "Atom #1669: organizations organization education promote community organized educational development initiative addition\n",
      "Atom #121: help need needs because needed helping keep already especially well\n"
     ]
    }
   ],
   "source": [
    "simlist = []\n",
    "\n",
    "for i, vector in enumerate(dictionary):\n",
    "    simlist.append( (cosine(vector, string_emb), i) )\n",
    "    \n",
    "simlist = sorted(simlist, key=lambda x: x[0])\n",
    "six_atoms_ind = [ins[1] for ins in simlist[:10]]\n",
    "\n",
    "for atoms_idx in six_atoms_ind:\n",
    "    nearest_words = embeddings.similar_by_vector(dictionary[atoms_idx,:])\n",
    "    nearest_words = [word[0] for word in nearest_words]\n",
    "    print(\"Atom #{}: {}\".format(atoms_idx, ' '.join(nearest_words)))"
   ]
  },
  {
   "cell_type": "markdown",
   "metadata": {},
   "source": [
    "Okey, just for curiosity, let's do the same for the Russian fasttext embeddings and see what will happend. The source embeddings I downloaded from [RusVectores](http://rusvectores.org). It trained on Russuan National Corpus with dimensionality 300."
   ]
  },
  {
   "cell_type": "code",
   "execution_count": 10,
   "metadata": {},
   "outputs": [],
   "source": [
    "fasttext_model = KeyedVectors.load('/home/astromis/Embeddings/fasttext/model.model')"
   ]
  },
  {
   "cell_type": "code",
   "execution_count": 11,
   "metadata": {},
   "outputs": [
    {
     "name": "stderr",
     "output_type": "stream",
     "text": [
      "/home/astromis/anaconda3/lib/python3.6/site-packages/ipykernel_launcher.py:1: DeprecationWarning: Call to deprecated `wv` (Attribute will be removed in 4.0.0, use self instead).\n",
      "  \"\"\"Entry point for launching an IPython kernel.\n"
     ]
    }
   ],
   "source": [
    "embeddings = fasttext_model.wv\n",
    "\n",
    "index2word = embeddings.index2word\n",
    "embedds = embeddings.vectors"
   ]
  },
  {
   "cell_type": "code",
   "execution_count": 12,
   "metadata": {},
   "outputs": [
    {
     "data": {
      "text/plain": [
       "(164996, 300)"
      ]
     },
     "execution_count": 12,
     "metadata": {},
     "output_type": "execute_result"
    }
   ],
   "source": [
    "embedds.shape"
   ]
  },
  {
   "cell_type": "code",
   "execution_count": 14,
   "metadata": {},
   "outputs": [
    {
     "name": "stdout",
     "output_type": "stream",
     "text": [
      "CPU times: user 1 µs, sys: 2 µs, total: 3 µs\n",
      "Wall time: 6.2 µs\n"
     ]
    }
   ],
   "source": [
    "%time\n",
    "aksvd = ApproximateKSVD(n_components=2000,transform_n_nonzero_coefs=5, )\n",
    "embedding_trans = embeddings.vectors[:10000]\n",
    "dictionary = aksvd.fit(embedding_trans).components_\n",
    "gamma = aksvd.transform(embedding_trans)"
   ]
  },
  {
   "cell_type": "code",
   "execution_count": 34,
   "metadata": {},
   "outputs": [],
   "source": [
    "dictionary = np.load('./data/mats/dictionary_rus_fasttext_300d.npz')\n",
    "dictionary = dictionary[dictionary.keys()[0]]"
   ]
  },
  {
   "cell_type": "code",
   "execution_count": 35,
   "metadata": {},
   "outputs": [
    {
     "name": "stderr",
     "output_type": "stream",
     "text": [
      "/home/astromis/anaconda3/lib/python3.6/site-packages/gensim/matutils.py:737: FutureWarning: Conversion of the second argument of issubdtype from `int` to `np.signedinteger` is deprecated. In future, it will be treated as `np.int64 == np.dtype(int).type`.\n",
      "  if np.issubdtype(vec.dtype, np.int):\n"
     ]
    },
    {
     "data": {
      "text/plain": [
       "[('исчезать', 0.6854609251022339),\n",
       " ('бесследно', 0.6593252420425415),\n",
       " ('исчезавший', 0.6360634565353394),\n",
       " ('бесследный', 0.5998549461364746),\n",
       " ('исчезли', 0.5971367955207825),\n",
       " ('исчез', 0.5862340927124023),\n",
       " ('пропадать', 0.5788886547088623),\n",
       " ('исчезлотец', 0.5788123607635498),\n",
       " ('исчезнувший', 0.5623885989189148),\n",
       " ('исчезинать', 0.5610565543174744),\n",
       " ('ликвидироваться', 0.5551878809928894),\n",
       " ('исчезнуть', 0.551397442817688),\n",
       " ('исчезнет', 0.5356274247169495),\n",
       " ('исчезание', 0.531707227230072),\n",
       " ('устраняться', 0.5174376368522644),\n",
       " ('ликвидируть', 0.5131562948226929),\n",
       " ('ликвидировать', 0.5120065212249756),\n",
       " ('поглощаться', 0.5077806115150452),\n",
       " ('исчезаний', 0.5074601173400879),\n",
       " ('улетучиться', 0.5068254470825195)]"
      ]
     },
     "execution_count": 35,
     "metadata": {},
     "output_type": "execute_result"
    }
   ],
   "source": [
    "embeddings.similar_by_vector(dictionary[1024,:], 20)"
   ]
  },
  {
   "cell_type": "code",
   "execution_count": 20,
   "metadata": {},
   "outputs": [],
   "source": [
    "itie = index2word.index('коса')\n",
    "ispring = index2word.index('ключ')\n",
    "\n",
    "tie_emb = embedds[itie]\n",
    "string_emb = embedds[ispring]"
   ]
  },
  {
   "cell_type": "code",
   "execution_count": 23,
   "metadata": {},
   "outputs": [
    {
     "name": "stdout",
     "output_type": "stream",
     "text": [
      "Atom #185: загадка загадк загадкай загад проблема вопрос разгадка загадать парадокс задача\n",
      "Atom #1217: дверь дверью двери дверка дверной калитка ставень запереть дверь-то настежь\n",
      "Atom #1213: папка бумажник сейф сундук портфель чемодан ящик сундучк пачка сундучок\n",
      "Atom #1978: кран плита крышка вентиль клапан электроплита котел плитка раковина посуда\n",
      "Atom #1796: карман пазуха кармашек бумажник карманута карманбыть пазух карманчик карманьол кармашка\n",
      "Atom #839: кнопка кнопф нажимать кноп клавиша нажать кнопа кнопочка рычажок нажатие\n",
      "Atom #989: отыскивать искать отыскиваться поискать разыскивать разыскиваться поиск поискивать отыскать отыскаться\n",
      "Atom #414: молоток молот топор пила колот молотобоец молотой кувалда молота умолот\n",
      "Atom #1140: капиталец капитал капиталовек капиталист капитально капитализм -капиталист капитальный капиталоемкий капиталовложение\n",
      "Atom #878: хранитель хранить храниться хранивший хранивать хранимый храниваться хранилище хранеть хранившийся\n"
     ]
    },
    {
     "name": "stderr",
     "output_type": "stream",
     "text": [
      "/home/astromis/anaconda3/lib/python3.6/site-packages/gensim/matutils.py:737: FutureWarning: Conversion of the second argument of issubdtype from `int` to `np.signedinteger` is deprecated. In future, it will be treated as `np.int64 == np.dtype(int).type`.\n",
      "  if np.issubdtype(vec.dtype, np.int):\n"
     ]
    }
   ],
   "source": [
    "simlist = []\n",
    "\n",
    "for i, vector in enumerate(dictionary):\n",
    "    simlist.append( (cosine(vector, string_emb), i) )\n",
    "    \n",
    "simlist = sorted(simlist, key=lambda x: x[0])\n",
    "six_atoms_ind = [ins[1] for ins in simlist[:10]]\n",
    "\n",
    "for atoms_idx in six_atoms_ind:\n",
    "    nearest_words = embeddings.similar_by_vector(dictionary[atoms_idx,:])\n",
    "    nearest_words = [word[0] for word in nearest_words]\n",
    "    print(\"Atom #{}: {}\".format(atoms_idx, ' '.join(nearest_words)))"
   ]
  },
  {
   "cell_type": "code",
   "execution_count": 24,
   "metadata": {},
   "outputs": [
    {
     "name": "stdout",
     "output_type": "stream",
     "text": [
      "Atom #883: косой русый кудряшка косичка челка русой черноволосой кудрявый кудряш светло-русый\n",
      "Atom #40: кустарник заросль осока ивняк трава бурьян папоротник кустик полукустарник бурьяна\n",
      "Atom #215: ниточка паучок бусинка паутинка жердочка стебелька веточка стебелек травинка пупырышек\n",
      "Atom #688: волос валюта кудри валютный борода валютчик ус бивалютный коса усы\n",
      "Atom #386: плечотец грудь шея подбородок бедро грудью ляжка плечо затылок живот\n",
      "Atom #676: веревка канат бечевка веревочка бечевкий шест репшнур жердь веревочный ремень\n",
      "Atom #414: молоток молот топор пила колот молотобоец молотой кувалда молота умолот\n",
      "Atom #127: сюртучок сюртук галстучок фрак панталоны галстучек сюртуки галстук платье галстух\n",
      "Atom #592: салфетка скатерть салфеточка платок шаль полотенце кружевной кружевцо кисея шелка\n",
      "Atom #703: шлюпка катер баркас фок-мачта грот-мачта мачта фрегат судно корвет шхуна\n"
     ]
    },
    {
     "name": "stderr",
     "output_type": "stream",
     "text": [
      "/home/astromis/anaconda3/lib/python3.6/site-packages/gensim/matutils.py:737: FutureWarning: Conversion of the second argument of issubdtype from `int` to `np.signedinteger` is deprecated. In future, it will be treated as `np.int64 == np.dtype(int).type`.\n",
      "  if np.issubdtype(vec.dtype, np.int):\n"
     ]
    }
   ],
   "source": [
    "simlist = []\n",
    "\n",
    "for i, vector in enumerate(dictionary):\n",
    "    simlist.append( (cosine(vector, tie_emb), i) )\n",
    "    \n",
    "simlist = sorted(simlist, key=lambda x: x[0])\n",
    "six_atoms_ind = [ins[1] for ins in simlist[:10]]\n",
    "\n",
    "for atoms_idx in six_atoms_ind:\n",
    "    nearest_words = embeddings.similar_by_vector(dictionary[atoms_idx,:])\n",
    "    nearest_words = [word[0] for word in nearest_words]\n",
    "    print(\"Atom #{}: {}\".format(atoms_idx, ' '.join(nearest_words)))"
   ]
  },
  {
   "cell_type": "code",
   "execution_count": 25,
   "metadata": {},
   "outputs": [],
   "source": [
    "np.savez_compressed('./data/mats/gamma_rus_fasttext_300d.npz', gamma)\n",
    "np.savez_compressed('./data/mats/dictionary_rus_fasttext_300d.npz', dictionary)"
   ]
  },
  {
   "cell_type": "markdown",
   "metadata": {},
   "source": [
    "If you don't know the Russian, trust me, it works well."
   ]
  }
 ],
 "metadata": {
  "kernelspec": {
   "display_name": "Python 3",
   "language": "python",
   "name": "python3"
  },
  "language_info": {
   "codemirror_mode": {
    "name": "ipython",
    "version": 3
   },
   "file_extension": ".py",
   "mimetype": "text/x-python",
   "name": "python",
   "nbconvert_exporter": "python",
   "pygments_lexer": "ipython3",
   "version": "3.6.5"
  }
 },
 "nbformat": 4,
 "nbformat_minor": 2
}
